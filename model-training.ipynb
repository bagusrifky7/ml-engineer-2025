{
 "cells": [
  {
   "cell_type": "markdown",
   "id": "15880c3d",
   "metadata": {},
   "source": [
    "# Model Training Notebook"
   ]
  },
  {
   "cell_type": "code",
   "execution_count": 34,
   "id": "892ed27b",
   "metadata": {},
   "outputs": [],
   "source": [
    "# import libraries\n",
    "import pandas as pd\n",
    "import numpy as np\n",
    "import seaborn as sns\n",
    "import matplotlib.pyplot as plt\n",
    "import pickle\n",
    "import tensorflow as tf\n",
    "\n",
    "from tensorflow.keras.layers import Dense, Dropout, Input\n",
    "from tensorflow.keras.callbacks import EarlyStopping, ModelCheckpoint\n",
    "from tensorflow.keras.models import Sequential, load_model\n",
    "from tensorflow.keras.utils import to_categorical\n",
    "from sklearn.preprocessing import MinMaxScaler, OneHotEncoder, StandardScaler\n",
    "from sklearn.pipeline import Pipeline\n",
    "from sklearn.compose import ColumnTransformer\n",
    "from sklearn.model_selection import train_test_split\n",
    "from sklearn.ensemble import RandomForestClassifier\n",
    "from sklearn.preprocessing import FunctionTransformer\n",
    "from sklearn.metrics import confusion_matrix, classification_report\n",
    "from scipy.stats import spearmanr, kendalltau\n",
    "from imblearn.over_sampling import SMOTENC"
   ]
  },
  {
   "cell_type": "code",
   "execution_count": 35,
   "id": "d85f40c7",
   "metadata": {},
   "outputs": [
    {
     "data": {
      "application/vnd.microsoft.datawrangler.viewer.v0+json": {
       "columns": [
        {
         "name": "index",
         "rawType": "int64",
         "type": "integer"
        },
        {
         "name": "provinsi_id",
         "rawType": "int64",
         "type": "integer"
        },
        {
         "name": "kabupaten_id",
         "rawType": "int64",
         "type": "integer"
        },
        {
         "name": "kepadatan_penduduk",
         "rawType": "float64",
         "type": "float"
        },
        {
         "name": "tingkat_pendidikan",
         "rawType": "float64",
         "type": "float"
        },
        {
         "name": "tingkat_pengangguran",
         "rawType": "float64",
         "type": "float"
        },
        {
         "name": "akses_air_bersih",
         "rawType": "float64",
         "type": "float"
        },
        {
         "name": "akses_listrik",
         "rawType": "float64",
         "type": "float"
        },
        {
         "name": "fasilitas_kesehatan",
         "rawType": "int64",
         "type": "integer"
        },
        {
         "name": "jalan_aspal",
         "rawType": "float64",
         "type": "float"
        },
        {
         "name": "luas_sawah",
         "rawType": "float64",
         "type": "float"
        },
        {
         "name": "pendapatan_perkapita",
         "rawType": "float64",
         "type": "float"
        },
        {
         "name": "jenis_wilayah",
         "rawType": "object",
         "type": "string"
        },
        {
         "name": "kemiskinan",
         "rawType": "int64",
         "type": "integer"
        }
       ],
       "ref": "b266fcd1-7bf8-4669-89c3-acd5589a40b8",
       "rows": [
        [
         "0",
         "31",
         "305",
         "19.57",
         "13.01",
         "3.72",
         "74.06",
         "96.23",
         "12",
         "86.0",
         "2101.76",
         "2705981.87",
         "urban",
         "0"
        ],
        [
         "1",
         "1",
         "428",
         "6.14",
         "7.51",
         "3.05",
         "73.02",
         "88.13",
         "15",
         "74.24",
         "5859.39",
         "2016187.82",
         "rural",
         "0"
        ],
        [
         "2",
         "2",
         "331",
         "217.07",
         "7.21",
         "5.27",
         "82.95",
         "90.19",
         "18",
         "85.1",
         "8691.7",
         "675611.6",
         "rural",
         "0"
        ],
        [
         "3",
         "17",
         "31",
         "47.5",
         "9.36",
         "5.58",
         "89.56",
         "90.01",
         "17",
         "79.57",
         "1405.1",
         "4099417.78",
         "urban",
         "0"
        ],
        [
         "4",
         "9",
         "288",
         "57.1",
         "2.64",
         "10.15",
         "92.6",
         "66.53",
         "18",
         "86.26",
         "7987.04",
         "916190.12",
         "urban",
         "1"
        ],
        [
         "5",
         "10",
         "128",
         "35.99",
         "4.49",
         "9.53",
         "80.32",
         "91.65",
         "20",
         "63.78",
         "330.35",
         "5425794.99",
         "rural",
         "0"
        ],
        [
         "6",
         "4",
         "473",
         "142.25",
         "9.27",
         "2.25",
         "93.46",
         "83.27",
         "15",
         "59.11",
         "533.9",
         "1034296.75",
         "rural",
         "0"
        ],
        [
         "7",
         "27",
         "14",
         "244.37",
         "11.22",
         "3.09",
         "86.62",
         "91.73",
         "21",
         "72.67",
         "2907.77",
         "2005905.2",
         "rural",
         "0"
        ],
        [
         "8",
         "32",
         "310",
         "658.07",
         "7.81",
         "1.78",
         "89.61",
         "87.04",
         "13",
         "59.7",
         "1223.16",
         "1089782.29",
         "urban",
         "0"
        ],
        [
         "9",
         "21",
         "49",
         "287.04",
         "10.6",
         "2.72",
         "63.6",
         "90.27",
         "11",
         "83.37",
         "885.24",
         "3735517.75",
         "urban",
         "0"
        ],
        [
         "10",
         "16",
         "277",
         "35.79",
         "13.17",
         "1.06",
         "93.76",
         "98.41",
         "12",
         "35.3",
         "2212.18",
         "1691294.32",
         "urban",
         "0"
        ],
        [
         "11",
         "32",
         "29",
         "117.85",
         "7.42",
         "5.32",
         "64.41",
         "98.0",
         "18",
         "67.95",
         "5332.34",
         "521291.58",
         "rural",
         "1"
        ],
        [
         "12",
         "24",
         "113",
         "28.52",
         "7.83",
         "2.35",
         "91.98",
         "67.94",
         "10",
         "45.23",
         "1399.87",
         "995969.99",
         "rural",
         "1"
        ],
        [
         "13",
         "21",
         "186",
         "501.86",
         "13.06",
         "10.3",
         "72.2",
         "89.14",
         "20",
         "61.19",
         "5876.07",
         "352539.36",
         "urban",
         "0"
        ],
        [
         "14",
         "27",
         "484",
         "181.19",
         "8.58",
         "3.35",
         "46.41",
         "85.72",
         "23",
         "32.08",
         "1441.76",
         "1438669.06",
         "rural",
         "0"
        ],
        [
         "15",
         "28",
         "49",
         "258.17",
         "8.8",
         "8.31",
         "79.69",
         "73.86",
         "12",
         "82.39",
         "1899.4",
         "1373596.69",
         "urban",
         "1"
        ],
        [
         "16",
         "19",
         "348",
         "151.83",
         "8.33",
         "3.3",
         "58.48",
         "93.36",
         "14",
         "51.37",
         "3382.66",
         "2326853.03",
         "urban",
         "0"
        ],
        [
         "17",
         "4",
         "189",
         "83.07",
         "5.71",
         "4.2",
         "96.64",
         "85.27",
         "17",
         "49.02",
         "3470.86",
         "5784099.89",
         "urban",
         "0"
        ],
        [
         "18",
         "18",
         "475",
         "290.24",
         "8.07",
         "6.27",
         "96.03",
         "92.37",
         "12",
         "65.54",
         "1523.83",
         "5465478.82",
         "rural",
         "0"
        ],
        [
         "19",
         "32",
         "343",
         "358.22",
         "7.74",
         "6.69",
         "97.94",
         "54.53",
         "22",
         "62.98",
         "3163.9",
         "3498390.67",
         "urban",
         "0"
        ],
        [
         "20",
         "21",
         "73",
         "14.32",
         "8.82",
         "6.99",
         "72.33",
         "72.97",
         "11",
         "36.36",
         "1937.39",
         "1996209.43",
         "urban",
         "0"
        ],
        [
         "21",
         "27",
         "256",
         "541.66",
         "9.77",
         "3.28",
         "67.65",
         "69.52",
         "13",
         "73.59",
         "6510.02",
         "2636860.87",
         "urban",
         "0"
        ],
        [
         "22",
         "26",
         "475",
         "131.04",
         "8.44",
         "9.54",
         "90.2",
         "90.07",
         "18",
         "67.19",
         "7313.37",
         "2600765.5",
         "urban",
         "0"
        ],
        [
         "23",
         "31",
         "410",
         "509.92",
         "7.74",
         "5.4",
         "60.73",
         "83.82",
         "6",
         "60.98",
         "3751.43",
         "2554734.72",
         "urban",
         "0"
        ],
        [
         "24",
         "16",
         "349",
         "242.35",
         "14.17",
         "4.7",
         "60.43",
         "78.93",
         "17",
         "79.75",
         "9409.73",
         "482790.24",
         "urban",
         "1"
        ],
        [
         "25",
         "33",
         "75",
         "227.12",
         "5.91",
         "12.22",
         "68.1",
         "88.95",
         "16",
         "48.79",
         "2819.77",
         "1575870.37",
         "urban",
         "1"
        ],
        [
         "26",
         "29",
         "422",
         "158.6",
         "5.06",
         "5.34",
         "63.28",
         "90.1",
         "17",
         "31.36",
         "7806.61",
         "1285661.27",
         "urban",
         "1"
        ],
        [
         "27",
         "18",
         "432",
         "793.07",
         "11.69",
         "2.75",
         "89.22",
         "41.02",
         "12",
         "45.96",
         "11082.8",
         "1299561.88",
         "rural",
         "0"
        ],
        [
         "28",
         "2",
         "166",
         "135.14",
         "9.45",
         "2.45",
         "75.61",
         "79.39",
         "7",
         "93.26",
         "25604.39",
         "1336453.68",
         "urban",
         "1"
        ],
        [
         "29",
         "28",
         "235",
         "972.11",
         "2.77",
         "5.95",
         "78.58",
         "87.56",
         "14",
         "76.0",
         "403.62",
         "1582665.86",
         "urban",
         "1"
        ],
        [
         "30",
         "4",
         "205",
         "808.69",
         "12.68",
         "4.43",
         "85.33",
         "90.49",
         "19",
         "26.33",
         "10903.86",
         "770102.47",
         "urban",
         "0"
        ],
        [
         "31",
         "25",
         "378",
         "37.0",
         "5.11",
         "2.82",
         "77.64",
         "56.66",
         "14",
         "86.31",
         "1184.64",
         "1427202.05",
         "rural",
         "1"
        ],
        [
         "32",
         "6",
         "330",
         "361.28",
         "11.29",
         "6.79",
         "92.46",
         "97.18",
         "16",
         "64.42",
         "6565.22",
         "597263.03",
         "rural",
         "0"
        ],
        [
         "33",
         "20",
         "390",
         "11.79",
         "10.0",
         "2.53",
         "84.72",
         "93.64",
         "15",
         "84.88",
         "10547.32",
         "2172413.76",
         "urban",
         "0"
        ],
        [
         "34",
         "22",
         "300",
         "1647.65",
         "10.5",
         "5.48",
         "60.3",
         "92.41",
         "17",
         "76.0",
         "857.64",
         "619878.66",
         "rural",
         "0"
        ],
        [
         "35",
         "15",
         "195",
         "660.89",
         "9.55",
         "4.92",
         "77.04",
         "87.96",
         "14",
         "29.62",
         "3212.88",
         "322197.12",
         "urban",
         "0"
        ],
        [
         "36",
         "7",
         "316",
         "95.24",
         "7.98",
         "3.83",
         "72.25",
         "92.15",
         "19",
         "41.88",
         "9908.71",
         "3583300.55",
         "rural",
         "0"
        ],
        [
         "37",
         "18",
         "129",
         "133.79",
         "9.92",
         "3.65",
         "89.64",
         "72.41",
         "17",
         "93.07",
         "5462.83",
         "1739641.64",
         "urban",
         "0"
        ],
        [
         "38",
         "11",
         "448",
         "1211.52",
         "9.43",
         "4.51",
         "68.18",
         "61.95",
         "20",
         "57.53",
         "4945.76",
         "1372216.77",
         "rural",
         "1"
        ],
        [
         "39",
         "26",
         "161",
         "113.63",
         "10.96",
         "3.95",
         "90.16",
         "71.44",
         "19",
         "46.68",
         "6432.63",
         "2095666.69",
         "urban",
         "0"
        ],
        [
         "40",
         "23",
         "465",
         "396.97",
         "9.95",
         "9.87",
         "96.05",
         "97.77",
         "16",
         "42.31",
         "13820.3",
         "294744.47",
         "urban",
         "0"
        ],
        [
         "41",
         "4",
         "376",
         "689.07",
         "12.45",
         "5.28",
         "83.39",
         "62.35",
         "12",
         "44.39",
         "4638.32",
         "6736345.63",
         "urban",
         "0"
        ],
        [
         "42",
         "2",
         "479",
         "541.95",
         "8.22",
         "17.88",
         "55.17",
         "96.79",
         "11",
         "68.99",
         "1329.49",
         "718119.46",
         "rural",
         "0"
        ],
        [
         "43",
         "34",
         "493",
         "110.95",
         "9.92",
         "2.6",
         "71.16",
         "87.43",
         "19",
         "47.58",
         "4169.27",
         "2711866.56",
         "urban",
         "0"
        ],
        [
         "44",
         "13",
         "61",
         "67.71",
         "6.21",
         "3.2",
         "85.08",
         "92.23",
         "12",
         "60.69",
         "6094.41",
         "839158.14",
         "rural",
         "0"
        ],
        [
         "45",
         "32",
         "372",
         "81.02",
         "14.16",
         "2.48",
         "68.53",
         "95.71",
         "23",
         "43.51",
         "347.2",
         "1645616.17",
         "urban",
         "0"
        ],
        [
         "46",
         "31",
         "23",
         "368.61",
         "8.69",
         "3.51",
         "68.21",
         "84.82",
         "11",
         "84.02",
         "2108.8",
         "861471.34",
         "urban",
         "1"
        ],
        [
         "47",
         "20",
         "226",
         "941.19",
         "7.88",
         "5.47",
         "86.59",
         "86.93",
         "11",
         "75.74",
         "2543.61",
         "1192716.17",
         "urban",
         "0"
        ],
        [
         "48",
         "8",
         "399",
         "31.99",
         "7.48",
         "1.18",
         "86.66",
         "80.65",
         "17",
         "83.28",
         "4153.8",
         "2141891.98",
         "urban",
         "0"
        ],
        [
         "49",
         "26",
         "142",
         "1172.09",
         "10.14",
         "7.13",
         "50.47",
         "61.07",
         "20",
         "73.1",
         "2924.99",
         "6917085.86",
         "urban",
         "0"
        ]
       ],
       "shape": {
        "columns": 13,
        "rows": 5000
       }
      },
      "text/html": [
       "<div>\n",
       "<style scoped>\n",
       "    .dataframe tbody tr th:only-of-type {\n",
       "        vertical-align: middle;\n",
       "    }\n",
       "\n",
       "    .dataframe tbody tr th {\n",
       "        vertical-align: top;\n",
       "    }\n",
       "\n",
       "    .dataframe thead th {\n",
       "        text-align: right;\n",
       "    }\n",
       "</style>\n",
       "<table border=\"1\" class=\"dataframe\">\n",
       "  <thead>\n",
       "    <tr style=\"text-align: right;\">\n",
       "      <th></th>\n",
       "      <th>provinsi_id</th>\n",
       "      <th>kabupaten_id</th>\n",
       "      <th>kepadatan_penduduk</th>\n",
       "      <th>tingkat_pendidikan</th>\n",
       "      <th>tingkat_pengangguran</th>\n",
       "      <th>akses_air_bersih</th>\n",
       "      <th>akses_listrik</th>\n",
       "      <th>fasilitas_kesehatan</th>\n",
       "      <th>jalan_aspal</th>\n",
       "      <th>luas_sawah</th>\n",
       "      <th>pendapatan_perkapita</th>\n",
       "      <th>jenis_wilayah</th>\n",
       "      <th>kemiskinan</th>\n",
       "    </tr>\n",
       "  </thead>\n",
       "  <tbody>\n",
       "    <tr>\n",
       "      <th>0</th>\n",
       "      <td>31</td>\n",
       "      <td>305</td>\n",
       "      <td>19.57</td>\n",
       "      <td>13.01</td>\n",
       "      <td>3.72</td>\n",
       "      <td>74.06</td>\n",
       "      <td>96.23</td>\n",
       "      <td>12</td>\n",
       "      <td>86.00</td>\n",
       "      <td>2101.76</td>\n",
       "      <td>2705981.87</td>\n",
       "      <td>urban</td>\n",
       "      <td>0</td>\n",
       "    </tr>\n",
       "    <tr>\n",
       "      <th>1</th>\n",
       "      <td>1</td>\n",
       "      <td>428</td>\n",
       "      <td>6.14</td>\n",
       "      <td>7.51</td>\n",
       "      <td>3.05</td>\n",
       "      <td>73.02</td>\n",
       "      <td>88.13</td>\n",
       "      <td>15</td>\n",
       "      <td>74.24</td>\n",
       "      <td>5859.39</td>\n",
       "      <td>2016187.82</td>\n",
       "      <td>rural</td>\n",
       "      <td>0</td>\n",
       "    </tr>\n",
       "    <tr>\n",
       "      <th>2</th>\n",
       "      <td>2</td>\n",
       "      <td>331</td>\n",
       "      <td>217.07</td>\n",
       "      <td>7.21</td>\n",
       "      <td>5.27</td>\n",
       "      <td>82.95</td>\n",
       "      <td>90.19</td>\n",
       "      <td>18</td>\n",
       "      <td>85.10</td>\n",
       "      <td>8691.70</td>\n",
       "      <td>675611.60</td>\n",
       "      <td>rural</td>\n",
       "      <td>0</td>\n",
       "    </tr>\n",
       "    <tr>\n",
       "      <th>3</th>\n",
       "      <td>17</td>\n",
       "      <td>31</td>\n",
       "      <td>47.50</td>\n",
       "      <td>9.36</td>\n",
       "      <td>5.58</td>\n",
       "      <td>89.56</td>\n",
       "      <td>90.01</td>\n",
       "      <td>17</td>\n",
       "      <td>79.57</td>\n",
       "      <td>1405.10</td>\n",
       "      <td>4099417.78</td>\n",
       "      <td>urban</td>\n",
       "      <td>0</td>\n",
       "    </tr>\n",
       "    <tr>\n",
       "      <th>4</th>\n",
       "      <td>9</td>\n",
       "      <td>288</td>\n",
       "      <td>57.10</td>\n",
       "      <td>2.64</td>\n",
       "      <td>10.15</td>\n",
       "      <td>92.60</td>\n",
       "      <td>66.53</td>\n",
       "      <td>18</td>\n",
       "      <td>86.26</td>\n",
       "      <td>7987.04</td>\n",
       "      <td>916190.12</td>\n",
       "      <td>urban</td>\n",
       "      <td>1</td>\n",
       "    </tr>\n",
       "    <tr>\n",
       "      <th>...</th>\n",
       "      <td>...</td>\n",
       "      <td>...</td>\n",
       "      <td>...</td>\n",
       "      <td>...</td>\n",
       "      <td>...</td>\n",
       "      <td>...</td>\n",
       "      <td>...</td>\n",
       "      <td>...</td>\n",
       "      <td>...</td>\n",
       "      <td>...</td>\n",
       "      <td>...</td>\n",
       "      <td>...</td>\n",
       "      <td>...</td>\n",
       "    </tr>\n",
       "    <tr>\n",
       "      <th>4995</th>\n",
       "      <td>9</td>\n",
       "      <td>87</td>\n",
       "      <td>72.50</td>\n",
       "      <td>3.99</td>\n",
       "      <td>13.23</td>\n",
       "      <td>87.15</td>\n",
       "      <td>83.03</td>\n",
       "      <td>22</td>\n",
       "      <td>53.32</td>\n",
       "      <td>1210.91</td>\n",
       "      <td>1396883.87</td>\n",
       "      <td>urban</td>\n",
       "      <td>1</td>\n",
       "    </tr>\n",
       "    <tr>\n",
       "      <th>4996</th>\n",
       "      <td>9</td>\n",
       "      <td>447</td>\n",
       "      <td>5770.99</td>\n",
       "      <td>9.53</td>\n",
       "      <td>6.12</td>\n",
       "      <td>91.68</td>\n",
       "      <td>90.88</td>\n",
       "      <td>10</td>\n",
       "      <td>69.20</td>\n",
       "      <td>4313.77</td>\n",
       "      <td>3128132.00</td>\n",
       "      <td>rural</td>\n",
       "      <td>0</td>\n",
       "    </tr>\n",
       "    <tr>\n",
       "      <th>4997</th>\n",
       "      <td>2</td>\n",
       "      <td>196</td>\n",
       "      <td>106.59</td>\n",
       "      <td>14.16</td>\n",
       "      <td>10.34</td>\n",
       "      <td>64.41</td>\n",
       "      <td>84.00</td>\n",
       "      <td>19</td>\n",
       "      <td>73.76</td>\n",
       "      <td>1116.63</td>\n",
       "      <td>13012722.68</td>\n",
       "      <td>urban</td>\n",
       "      <td>0</td>\n",
       "    </tr>\n",
       "    <tr>\n",
       "      <th>4998</th>\n",
       "      <td>4</td>\n",
       "      <td>437</td>\n",
       "      <td>35.64</td>\n",
       "      <td>7.11</td>\n",
       "      <td>5.51</td>\n",
       "      <td>96.32</td>\n",
       "      <td>91.54</td>\n",
       "      <td>12</td>\n",
       "      <td>77.03</td>\n",
       "      <td>258.13</td>\n",
       "      <td>5135349.80</td>\n",
       "      <td>urban</td>\n",
       "      <td>0</td>\n",
       "    </tr>\n",
       "    <tr>\n",
       "      <th>4999</th>\n",
       "      <td>10</td>\n",
       "      <td>485</td>\n",
       "      <td>218.63</td>\n",
       "      <td>3.83</td>\n",
       "      <td>10.91</td>\n",
       "      <td>96.68</td>\n",
       "      <td>92.09</td>\n",
       "      <td>29</td>\n",
       "      <td>79.74</td>\n",
       "      <td>13696.20</td>\n",
       "      <td>3237839.26</td>\n",
       "      <td>urban</td>\n",
       "      <td>0</td>\n",
       "    </tr>\n",
       "  </tbody>\n",
       "</table>\n",
       "<p>5000 rows × 13 columns</p>\n",
       "</div>"
      ],
      "text/plain": [
       "      provinsi_id  kabupaten_id  kepadatan_penduduk  tingkat_pendidikan  \\\n",
       "0              31           305               19.57               13.01   \n",
       "1               1           428                6.14                7.51   \n",
       "2               2           331              217.07                7.21   \n",
       "3              17            31               47.50                9.36   \n",
       "4               9           288               57.10                2.64   \n",
       "...           ...           ...                 ...                 ...   \n",
       "4995            9            87               72.50                3.99   \n",
       "4996            9           447             5770.99                9.53   \n",
       "4997            2           196              106.59               14.16   \n",
       "4998            4           437               35.64                7.11   \n",
       "4999           10           485              218.63                3.83   \n",
       "\n",
       "      tingkat_pengangguran  akses_air_bersih  akses_listrik  \\\n",
       "0                     3.72             74.06          96.23   \n",
       "1                     3.05             73.02          88.13   \n",
       "2                     5.27             82.95          90.19   \n",
       "3                     5.58             89.56          90.01   \n",
       "4                    10.15             92.60          66.53   \n",
       "...                    ...               ...            ...   \n",
       "4995                 13.23             87.15          83.03   \n",
       "4996                  6.12             91.68          90.88   \n",
       "4997                 10.34             64.41          84.00   \n",
       "4998                  5.51             96.32          91.54   \n",
       "4999                 10.91             96.68          92.09   \n",
       "\n",
       "      fasilitas_kesehatan  jalan_aspal  luas_sawah  pendapatan_perkapita  \\\n",
       "0                      12        86.00     2101.76            2705981.87   \n",
       "1                      15        74.24     5859.39            2016187.82   \n",
       "2                      18        85.10     8691.70             675611.60   \n",
       "3                      17        79.57     1405.10            4099417.78   \n",
       "4                      18        86.26     7987.04             916190.12   \n",
       "...                   ...          ...         ...                   ...   \n",
       "4995                   22        53.32     1210.91            1396883.87   \n",
       "4996                   10        69.20     4313.77            3128132.00   \n",
       "4997                   19        73.76     1116.63           13012722.68   \n",
       "4998                   12        77.03      258.13            5135349.80   \n",
       "4999                   29        79.74    13696.20            3237839.26   \n",
       "\n",
       "     jenis_wilayah  kemiskinan  \n",
       "0            urban           0  \n",
       "1            rural           0  \n",
       "2            rural           0  \n",
       "3            urban           0  \n",
       "4            urban           1  \n",
       "...            ...         ...  \n",
       "4995         urban           1  \n",
       "4996         rural           0  \n",
       "4997         urban           0  \n",
       "4998         urban           0  \n",
       "4999         urban           0  \n",
       "\n",
       "[5000 rows x 13 columns]"
      ]
     },
     "execution_count": 35,
     "metadata": {},
     "output_type": "execute_result"
    }
   ],
   "source": [
    "# load data\n",
    "df = pd.read_csv('clean-data.csv')\n",
    "df"
   ]
  },
  {
   "cell_type": "markdown",
   "id": "adb91ed1",
   "metadata": {},
   "source": [
    "## A. Feature Engineering"
   ]
  },
  {
   "cell_type": "markdown",
   "id": "e9dd7a44",
   "metadata": {},
   "source": [
    "### Data Types Casting"
   ]
  },
  {
   "cell_type": "code",
   "execution_count": 36,
   "id": "0179af7c",
   "metadata": {},
   "outputs": [],
   "source": [
    "df['jenis_wilayah'] = df['jenis_wilayah'].astype(str)"
   ]
  },
  {
   "cell_type": "markdown",
   "id": "9957e3d1",
   "metadata": {},
   "source": [
    "### Handle Cardinality"
   ]
  },
  {
   "cell_type": "code",
   "execution_count": 37,
   "id": "9712993c",
   "metadata": {},
   "outputs": [
    {
     "data": {
      "application/vnd.microsoft.datawrangler.viewer.v0+json": {
       "columns": [
        {
         "name": "index",
         "rawType": "int64",
         "type": "integer"
        },
        {
         "name": "nama_kolom",
         "rawType": "object",
         "type": "string"
        },
        {
         "name": "jumlah_nilai_unik",
         "rawType": "int64",
         "type": "integer"
        },
        {
         "name": "nilai_unik",
         "rawType": "object",
         "type": "unknown"
        }
       ],
       "ref": "6db6befc-33b2-45a6-8149-7fea2f06a2d7",
       "rows": [
        [
         "0",
         "jenis_wilayah",
         "2",
         "['urban' 'rural']"
        ]
       ],
       "shape": {
        "columns": 3,
        "rows": 1
       }
      },
      "text/html": [
       "<div>\n",
       "<style scoped>\n",
       "    .dataframe tbody tr th:only-of-type {\n",
       "        vertical-align: middle;\n",
       "    }\n",
       "\n",
       "    .dataframe tbody tr th {\n",
       "        vertical-align: top;\n",
       "    }\n",
       "\n",
       "    .dataframe thead th {\n",
       "        text-align: right;\n",
       "    }\n",
       "</style>\n",
       "<table border=\"1\" class=\"dataframe\">\n",
       "  <thead>\n",
       "    <tr style=\"text-align: right;\">\n",
       "      <th></th>\n",
       "      <th>nama_kolom</th>\n",
       "      <th>jumlah_nilai_unik</th>\n",
       "      <th>nilai_unik</th>\n",
       "    </tr>\n",
       "  </thead>\n",
       "  <tbody>\n",
       "    <tr>\n",
       "      <th>0</th>\n",
       "      <td>jenis_wilayah</td>\n",
       "      <td>2</td>\n",
       "      <td>[urban, rural]</td>\n",
       "    </tr>\n",
       "  </tbody>\n",
       "</table>\n",
       "</div>"
      ],
      "text/plain": [
       "      nama_kolom  jumlah_nilai_unik      nilai_unik\n",
       "0  jenis_wilayah                  2  [urban, rural]"
      ]
     },
     "execution_count": 37,
     "metadata": {},
     "output_type": "execute_result"
    }
   ],
   "source": [
    "list_car = []\n",
    "\n",
    "# categorical columns\n",
    "cat_cols = ['jenis_wilayah']\n",
    "\n",
    "# iteration for the cardinality table\n",
    "for col in cat_cols:\n",
    "    list_car.append([col, df[col].nunique(), df[col].unique()])\n",
    "\n",
    "\n",
    "pd.DataFrame(columns=['nama_kolom', 'jumlah_nilai_unik', 'nilai_unik'], data=list_car)"
   ]
  },
  {
   "cell_type": "markdown",
   "id": "ac60dd9b",
   "metadata": {},
   "source": [
    "Explanation:\n",
    "\n",
    "Cardinality in the columns is low. So we don't need to handle cardinality."
   ]
  },
  {
   "cell_type": "markdown",
   "id": "13765783",
   "metadata": {},
   "source": [
    "### Split Between Features and Target"
   ]
  },
  {
   "cell_type": "code",
   "execution_count": 38,
   "id": "5efd099c",
   "metadata": {},
   "outputs": [],
   "source": [
    "# split data\n",
    "X = df.drop(columns=['kemiskinan'])\n",
    "y = df['kemiskinan']"
   ]
  },
  {
   "cell_type": "code",
   "execution_count": 39,
   "id": "6bf74c50",
   "metadata": {},
   "outputs": [
    {
     "data": {
      "application/vnd.microsoft.datawrangler.viewer.v0+json": {
       "columns": [
        {
         "name": "index",
         "rawType": "int64",
         "type": "integer"
        },
        {
         "name": "kemiskinan",
         "rawType": "int64",
         "type": "integer"
        }
       ],
       "ref": "f69d6268-9d5e-42d0-ba5c-5d7bc41c1eaf",
       "rows": [
        [
         "0",
         "0"
        ],
        [
         "1",
         "0"
        ],
        [
         "2",
         "0"
        ],
        [
         "3",
         "0"
        ],
        [
         "4",
         "1"
        ],
        [
         "5",
         "0"
        ],
        [
         "6",
         "0"
        ],
        [
         "7",
         "0"
        ],
        [
         "8",
         "0"
        ],
        [
         "9",
         "0"
        ],
        [
         "10",
         "0"
        ],
        [
         "11",
         "1"
        ],
        [
         "12",
         "1"
        ],
        [
         "13",
         "0"
        ],
        [
         "14",
         "0"
        ],
        [
         "15",
         "1"
        ],
        [
         "16",
         "0"
        ],
        [
         "17",
         "0"
        ],
        [
         "18",
         "0"
        ],
        [
         "19",
         "0"
        ],
        [
         "20",
         "0"
        ],
        [
         "21",
         "0"
        ],
        [
         "22",
         "0"
        ],
        [
         "23",
         "0"
        ],
        [
         "24",
         "1"
        ],
        [
         "25",
         "1"
        ],
        [
         "26",
         "1"
        ],
        [
         "27",
         "0"
        ],
        [
         "28",
         "1"
        ],
        [
         "29",
         "1"
        ],
        [
         "30",
         "0"
        ],
        [
         "31",
         "1"
        ],
        [
         "32",
         "0"
        ],
        [
         "33",
         "0"
        ],
        [
         "34",
         "0"
        ],
        [
         "35",
         "0"
        ],
        [
         "36",
         "0"
        ],
        [
         "37",
         "0"
        ],
        [
         "38",
         "1"
        ],
        [
         "39",
         "0"
        ],
        [
         "40",
         "0"
        ],
        [
         "41",
         "0"
        ],
        [
         "42",
         "0"
        ],
        [
         "43",
         "0"
        ],
        [
         "44",
         "0"
        ],
        [
         "45",
         "0"
        ],
        [
         "46",
         "1"
        ],
        [
         "47",
         "0"
        ],
        [
         "48",
         "0"
        ],
        [
         "49",
         "0"
        ]
       ],
       "shape": {
        "columns": 1,
        "rows": 5000
       }
      },
      "text/plain": [
       "0       0\n",
       "1       0\n",
       "2       0\n",
       "3       0\n",
       "4       1\n",
       "       ..\n",
       "4995    1\n",
       "4996    0\n",
       "4997    0\n",
       "4998    0\n",
       "4999    0\n",
       "Name: kemiskinan, Length: 5000, dtype: int64"
      ]
     },
     "execution_count": 39,
     "metadata": {},
     "output_type": "execute_result"
    }
   ],
   "source": [
    "# show target column\n",
    "y"
   ]
  },
  {
   "cell_type": "markdown",
   "id": "78a909e1",
   "metadata": {},
   "source": [
    "### Split Between Train, Eval, and Test Set"
   ]
  },
  {
   "cell_type": "code",
   "execution_count": 40,
   "id": "47936cf5",
   "metadata": {},
   "outputs": [],
   "source": [
    "# split data into train set and test set\n",
    "X_train_eval, X_test, y_train_eval, y_test = train_test_split(X, \n",
    "                                                              y, \n",
    "                                                              test_size=0.2, \n",
    "                                                              random_state=45)\n",
    "\n",
    "# split train_eval data into train and eval\n",
    "X_train, X_eval, y_train, y_eval = train_test_split(X_train_eval,\n",
    "                                                    y_train_eval,\n",
    "                                                    test_size=0.10,\n",
    "                                                    random_state=45)"
   ]
  },
  {
   "cell_type": "code",
   "execution_count": 41,
   "id": "79b3dede",
   "metadata": {},
   "outputs": [
    {
     "name": "stdout",
     "output_type": "stream",
     "text": [
      "Train set shape: (3600, 12)\n",
      "Eval set shape: (400, 12)\n",
      "Test set shape: (1000, 12)\n"
     ]
    }
   ],
   "source": [
    "# shape of train and test set\n",
    "print(f'Train set shape: {X_train.shape}')\n",
    "print(f'Eval set shape: {X_eval.shape}')\n",
    "print(f'Test set shape: {X_test.shape}')\n"
   ]
  },
  {
   "cell_type": "markdown",
   "id": "118f88de",
   "metadata": {},
   "source": [
    "Explanation:\n",
    "\n",
    "Train set and test set divided with a ratio of 80:20, with train set percentage is 80 percent and test set is 20 percent."
   ]
  },
  {
   "cell_type": "markdown",
   "id": "33bbacf0",
   "metadata": {},
   "source": [
    "### Handle Outliers"
   ]
  },
  {
   "cell_type": "code",
   "execution_count": 42,
   "id": "db7e9880",
   "metadata": {},
   "outputs": [
    {
     "name": "stdout",
     "output_type": "stream",
     "text": [
      "<class 'pandas.core.frame.DataFrame'>\n",
      "RangeIndex: 5000 entries, 0 to 4999\n",
      "Data columns (total 13 columns):\n",
      " #   Column                Non-Null Count  Dtype  \n",
      "---  ------                --------------  -----  \n",
      " 0   provinsi_id           5000 non-null   int64  \n",
      " 1   kabupaten_id          5000 non-null   int64  \n",
      " 2   kepadatan_penduduk    5000 non-null   float64\n",
      " 3   tingkat_pendidikan    5000 non-null   float64\n",
      " 4   tingkat_pengangguran  5000 non-null   float64\n",
      " 5   akses_air_bersih      5000 non-null   float64\n",
      " 6   akses_listrik         5000 non-null   float64\n",
      " 7   fasilitas_kesehatan   5000 non-null   int64  \n",
      " 8   jalan_aspal           5000 non-null   float64\n",
      " 9   luas_sawah            5000 non-null   float64\n",
      " 10  pendapatan_perkapita  5000 non-null   float64\n",
      " 11  jenis_wilayah         5000 non-null   object \n",
      " 12  kemiskinan            5000 non-null   int64  \n",
      "dtypes: float64(8), int64(4), object(1)\n",
      "memory usage: 507.9+ KB\n"
     ]
    }
   ],
   "source": [
    "df.info()"
   ]
  },
  {
   "cell_type": "code",
   "execution_count": 43,
   "id": "fc824330",
   "metadata": {},
   "outputs": [
    {
     "data": {
      "application/vnd.microsoft.datawrangler.viewer.v0+json": {
       "columns": [
        {
         "name": "index",
         "rawType": "int64",
         "type": "integer"
        },
        {
         "name": "nama_kolom",
         "rawType": "object",
         "type": "string"
        },
        {
         "name": "nilai_skewness",
         "rawType": "float64",
         "type": "float"
        },
        {
         "name": "tipe_distribusi",
         "rawType": "object",
         "type": "unknown"
        }
       ],
       "ref": "334db64c-b0ab-4724-b0bd-4aaa0ec2c296",
       "rows": [
        [
         "0",
         "kepadatan_penduduk",
         "13.5",
         "skew"
        ],
        [
         "1",
         "tingkat_pendidikan",
         "-0.0",
         "normal"
        ],
        [
         "2",
         "tingkat_pengangguran",
         "1.4",
         "skew"
        ],
        [
         "3",
         "akses_air_bersih",
         "-0.8",
         "skew"
        ],
        [
         "4",
         "akses_listrik",
         "-1.1",
         "skew"
        ],
        [
         "5",
         "fasilitas_kesehatan",
         "0.3",
         "normal"
        ],
        [
         "6",
         "jalan_aspal",
         "-0.2",
         "normal"
        ],
        [
         "7",
         "luas_sawah",
         "2.0",
         "skew"
        ],
        [
         "8",
         "pendapatan_perkapita",
         "3.2",
         "skew"
        ]
       ],
       "shape": {
        "columns": 3,
        "rows": 9
       }
      },
      "text/html": [
       "<div>\n",
       "<style scoped>\n",
       "    .dataframe tbody tr th:only-of-type {\n",
       "        vertical-align: middle;\n",
       "    }\n",
       "\n",
       "    .dataframe tbody tr th {\n",
       "        vertical-align: top;\n",
       "    }\n",
       "\n",
       "    .dataframe thead th {\n",
       "        text-align: right;\n",
       "    }\n",
       "</style>\n",
       "<table border=\"1\" class=\"dataframe\">\n",
       "  <thead>\n",
       "    <tr style=\"text-align: right;\">\n",
       "      <th></th>\n",
       "      <th>nama_kolom</th>\n",
       "      <th>nilai_skewness</th>\n",
       "      <th>tipe_distribusi</th>\n",
       "    </tr>\n",
       "  </thead>\n",
       "  <tbody>\n",
       "    <tr>\n",
       "      <th>0</th>\n",
       "      <td>kepadatan_penduduk</td>\n",
       "      <td>13.5</td>\n",
       "      <td>skew</td>\n",
       "    </tr>\n",
       "    <tr>\n",
       "      <th>1</th>\n",
       "      <td>tingkat_pendidikan</td>\n",
       "      <td>-0.0</td>\n",
       "      <td>normal</td>\n",
       "    </tr>\n",
       "    <tr>\n",
       "      <th>2</th>\n",
       "      <td>tingkat_pengangguran</td>\n",
       "      <td>1.4</td>\n",
       "      <td>skew</td>\n",
       "    </tr>\n",
       "    <tr>\n",
       "      <th>3</th>\n",
       "      <td>akses_air_bersih</td>\n",
       "      <td>-0.8</td>\n",
       "      <td>skew</td>\n",
       "    </tr>\n",
       "    <tr>\n",
       "      <th>4</th>\n",
       "      <td>akses_listrik</td>\n",
       "      <td>-1.1</td>\n",
       "      <td>skew</td>\n",
       "    </tr>\n",
       "    <tr>\n",
       "      <th>5</th>\n",
       "      <td>fasilitas_kesehatan</td>\n",
       "      <td>0.3</td>\n",
       "      <td>normal</td>\n",
       "    </tr>\n",
       "    <tr>\n",
       "      <th>6</th>\n",
       "      <td>jalan_aspal</td>\n",
       "      <td>-0.2</td>\n",
       "      <td>normal</td>\n",
       "    </tr>\n",
       "    <tr>\n",
       "      <th>7</th>\n",
       "      <td>luas_sawah</td>\n",
       "      <td>2.0</td>\n",
       "      <td>skew</td>\n",
       "    </tr>\n",
       "    <tr>\n",
       "      <th>8</th>\n",
       "      <td>pendapatan_perkapita</td>\n",
       "      <td>3.2</td>\n",
       "      <td>skew</td>\n",
       "    </tr>\n",
       "  </tbody>\n",
       "</table>\n",
       "</div>"
      ],
      "text/plain": [
       "             nama_kolom  nilai_skewness tipe_distribusi\n",
       "0    kepadatan_penduduk            13.5            skew\n",
       "1    tingkat_pendidikan            -0.0          normal\n",
       "2  tingkat_pengangguran             1.4            skew\n",
       "3      akses_air_bersih            -0.8            skew\n",
       "4         akses_listrik            -1.1            skew\n",
       "5   fasilitas_kesehatan             0.3          normal\n",
       "6           jalan_aspal            -0.2          normal\n",
       "7            luas_sawah             2.0            skew\n",
       "8  pendapatan_perkapita             3.2            skew"
      ]
     },
     "execution_count": 43,
     "metadata": {},
     "output_type": "execute_result"
    }
   ],
   "source": [
    "# numerical columns \n",
    "num_cols_outlier = ['kepadatan_penduduk',\n",
    "       'tingkat_pendidikan', 'tingkat_pengangguran', 'akses_air_bersih',\n",
    "       'akses_listrik', 'fasilitas_kesehatan', 'jalan_aspal', 'luas_sawah',\n",
    "       'pendapatan_perkapita']\n",
    "\n",
    "list_outlier = []\n",
    "\n",
    "# iteration for checking if the column have normal or skew distribution\n",
    "for col in num_cols_outlier:\n",
    "    list_outlier.append([col, round(X_train[col].skew(),1), np.where(0.5 >= X_train[col].skew() >= -0.5,\n",
    "                                                                      'normal', 'skew')])\n",
    "\n",
    "# show the table\n",
    "skewness = pd.DataFrame(columns=['nama_kolom', 'nilai_skewness', 'tipe_distribusi'], data=list_outlier)\n",
    "skewness\n"
   ]
  },
  {
   "cell_type": "code",
   "execution_count": 44,
   "id": "e3e19be6",
   "metadata": {},
   "outputs": [
    {
     "data": {
      "application/vnd.microsoft.datawrangler.viewer.v0+json": {
       "columns": [
        {
         "name": "index",
         "rawType": "int64",
         "type": "integer"
        },
        {
         "name": "kolom",
         "rawType": "object",
         "type": "string"
        },
        {
         "name": "batas_atas",
         "rawType": "float64",
         "type": "float"
        },
        {
         "name": "batas_bawah",
         "rawType": "float64",
         "type": "float"
        },
        {
         "name": "persentase_outlier",
         "rawType": "float64",
         "type": "float"
        }
       ],
       "ref": "a8355c0f-7893-432f-9809-468ff76d088e",
       "rows": [
        [
         "0",
         "kepadatan_penduduk",
         "4272.25",
         "-3365.98",
         "1.44"
        ],
        [
         "1",
         "tingkat_pendidikan",
         "15.91",
         "1.05",
         "0.19"
        ],
        [
         "2",
         "tingkat_pengangguran",
         "18.38",
         "-6.45",
         "1.19"
        ],
        [
         "3",
         "akses_air_bersih",
         "117.59",
         "37.92",
         "0.67"
        ],
        [
         "4",
         "akses_listrik",
         "117.44",
         "51.63",
         "1.06"
        ],
        [
         "5",
         "fasilitas_kesehatan",
         "26.68",
         "3.46",
         "0.36"
        ],
        [
         "6",
         "jalan_aspal",
         "110.41",
         "13.97",
         "0.06"
        ],
        [
         "7",
         "luas_sawah",
         "19908.28",
         "-9905.07",
         "1.72"
        ],
        [
         "8",
         "pendapatan_perkapita",
         "10585554.34",
         "-5064032.23",
         "1.92"
        ]
       ],
       "shape": {
        "columns": 4,
        "rows": 9
       }
      },
      "text/html": [
       "<div>\n",
       "<style scoped>\n",
       "    .dataframe tbody tr th:only-of-type {\n",
       "        vertical-align: middle;\n",
       "    }\n",
       "\n",
       "    .dataframe tbody tr th {\n",
       "        vertical-align: top;\n",
       "    }\n",
       "\n",
       "    .dataframe thead th {\n",
       "        text-align: right;\n",
       "    }\n",
       "</style>\n",
       "<table border=\"1\" class=\"dataframe\">\n",
       "  <thead>\n",
       "    <tr style=\"text-align: right;\">\n",
       "      <th></th>\n",
       "      <th>kolom</th>\n",
       "      <th>batas_atas</th>\n",
       "      <th>batas_bawah</th>\n",
       "      <th>persentase_outlier</th>\n",
       "    </tr>\n",
       "  </thead>\n",
       "  <tbody>\n",
       "    <tr>\n",
       "      <th>0</th>\n",
       "      <td>kepadatan_penduduk</td>\n",
       "      <td>4272.25</td>\n",
       "      <td>-3365.98</td>\n",
       "      <td>1.44</td>\n",
       "    </tr>\n",
       "    <tr>\n",
       "      <th>1</th>\n",
       "      <td>tingkat_pendidikan</td>\n",
       "      <td>15.91</td>\n",
       "      <td>1.05</td>\n",
       "      <td>0.19</td>\n",
       "    </tr>\n",
       "    <tr>\n",
       "      <th>2</th>\n",
       "      <td>tingkat_pengangguran</td>\n",
       "      <td>18.38</td>\n",
       "      <td>-6.45</td>\n",
       "      <td>1.19</td>\n",
       "    </tr>\n",
       "    <tr>\n",
       "      <th>3</th>\n",
       "      <td>akses_air_bersih</td>\n",
       "      <td>117.59</td>\n",
       "      <td>37.92</td>\n",
       "      <td>0.67</td>\n",
       "    </tr>\n",
       "    <tr>\n",
       "      <th>4</th>\n",
       "      <td>akses_listrik</td>\n",
       "      <td>117.44</td>\n",
       "      <td>51.63</td>\n",
       "      <td>1.06</td>\n",
       "    </tr>\n",
       "    <tr>\n",
       "      <th>5</th>\n",
       "      <td>fasilitas_kesehatan</td>\n",
       "      <td>26.68</td>\n",
       "      <td>3.46</td>\n",
       "      <td>0.36</td>\n",
       "    </tr>\n",
       "    <tr>\n",
       "      <th>6</th>\n",
       "      <td>jalan_aspal</td>\n",
       "      <td>110.41</td>\n",
       "      <td>13.97</td>\n",
       "      <td>0.06</td>\n",
       "    </tr>\n",
       "    <tr>\n",
       "      <th>7</th>\n",
       "      <td>luas_sawah</td>\n",
       "      <td>19908.28</td>\n",
       "      <td>-9905.07</td>\n",
       "      <td>1.72</td>\n",
       "    </tr>\n",
       "    <tr>\n",
       "      <th>8</th>\n",
       "      <td>pendapatan_perkapita</td>\n",
       "      <td>10585554.34</td>\n",
       "      <td>-5064032.23</td>\n",
       "      <td>1.92</td>\n",
       "    </tr>\n",
       "  </tbody>\n",
       "</table>\n",
       "</div>"
      ],
      "text/plain": [
       "                  kolom   batas_atas  batas_bawah  persentase_outlier\n",
       "0    kepadatan_penduduk      4272.25     -3365.98                1.44\n",
       "1    tingkat_pendidikan        15.91         1.05                0.19\n",
       "2  tingkat_pengangguran        18.38        -6.45                1.19\n",
       "3      akses_air_bersih       117.59        37.92                0.67\n",
       "4         akses_listrik       117.44        51.63                1.06\n",
       "5   fasilitas_kesehatan        26.68         3.46                0.36\n",
       "6           jalan_aspal       110.41        13.97                0.06\n",
       "7            luas_sawah     19908.28     -9905.07                1.72\n",
       "8  pendapatan_perkapita  10585554.34  -5064032.23                1.92"
      ]
     },
     "execution_count": 44,
     "metadata": {},
     "output_type": "execute_result"
    }
   ],
   "source": [
    "columns = []\n",
    "lower_bound = []\n",
    "upper_bound = []\n",
    "percent_total_outlier = []\n",
    "\n",
    "for row in range (0, len(skewness)):\n",
    "  column = skewness['nama_kolom'][row]\n",
    "  # if is have skewed distributions\n",
    "  if skewness['tipe_distribusi'][row] == 'skewed':\n",
    "    IQR = X_train[column].quantile(0.75) - X_train[column].quantile(0.25)\n",
    "    lower_boundary = X_train[column].quantile(0.25) - (IQR * 3)\n",
    "    upper_boundary = X_train[column].quantile(0.75) + (IQR * 3)\n",
    "  # if is have normal distribution\n",
    "  else:\n",
    "    lower_boundary = X_train[column].mean() - 3* X_train[column].std()\n",
    "    upper_boundary = X_train[column].mean() + 3* X_train[column].std()\n",
    "  # append to list\n",
    "  columns.append(column)\n",
    "  lower_bound.append(lower_boundary)\n",
    "  upper_bound.append(upper_boundary)\n",
    "  totout = ((len(X_train[X_train[column] > upper_boundary]) / len(X_train) * 100) + (len(X_train[X_train[column] < lower_boundary]) / len(X_train) * 100))\n",
    "  percent_total_outlier.append(totout)\n",
    "\n",
    "# create table \n",
    "outliers = pd.DataFrame({\n",
    "    'kolom': columns,\n",
    "    'batas_atas': [round(upper_bound,2) for upper_bound in upper_bound],\n",
    "    'batas_bawah': [round(lower_bound,2) for lower_bound in lower_bound],\n",
    "    'persentase_outlier': [round(percent_total_outlier,2) for percent_total_outlier in percent_total_outlier]\n",
    "})\n",
    "outliers"
   ]
  },
  {
   "cell_type": "markdown",
   "id": "7487d7bc",
   "metadata": {},
   "source": [
    "Explanation:\n",
    "\n",
    "Percentage of outliers are below 5%, so we don't need to do a capping process."
   ]
  },
  {
   "cell_type": "markdown",
   "id": "7bec29a9",
   "metadata": {},
   "source": [
    "### Handle Missing Values"
   ]
  },
  {
   "cell_type": "code",
   "execution_count": 45,
   "id": "7b9411b4",
   "metadata": {},
   "outputs": [
    {
     "data": {
      "text/plain": [
       "0"
      ]
     },
     "execution_count": 45,
     "metadata": {},
     "output_type": "execute_result"
    }
   ],
   "source": [
    "# check missing value\n",
    "df.isna().sum().sum()"
   ]
  },
  {
   "cell_type": "markdown",
   "id": "ce9c558c",
   "metadata": {},
   "source": [
    "Explanation:\n",
    "\n",
    "No missing value in the data"
   ]
  },
  {
   "cell_type": "markdown",
   "id": "a24f6aa0",
   "metadata": {},
   "source": [
    "### Feature Selection"
   ]
  },
  {
   "cell_type": "code",
   "execution_count": 46,
   "id": "60259923",
   "metadata": {},
   "outputs": [
    {
     "data": {
      "text/plain": [
       "1.589202992805475"
      ]
     },
     "execution_count": 46,
     "metadata": {},
     "output_type": "execute_result"
    }
   ],
   "source": [
    "# check target skweness value\n",
    "y.skew()"
   ]
  },
  {
   "cell_type": "markdown",
   "id": "758db356",
   "metadata": {},
   "source": [
    "Explanation:\n",
    "\n",
    "Target distribution type is skewed"
   ]
  },
  {
   "cell_type": "code",
   "execution_count": 47,
   "id": "6a325369",
   "metadata": {},
   "outputs": [],
   "source": [
    "# drop provinsi_id and kabupaten_id becasue we don't need to include it in training process because is\n",
    "# a unique value representing for each region\n",
    "X_train = X_train.drop(columns=['provinsi_id', 'kabupaten_id'])\n",
    "X_test = X_test.drop(columns=['provinsi_id', 'kabupaten_id'])"
   ]
  },
  {
   "cell_type": "code",
   "execution_count": 48,
   "id": "a805fefe",
   "metadata": {},
   "outputs": [
    {
     "data": {
      "application/vnd.microsoft.datawrangler.viewer.v0+json": {
       "columns": [
        {
         "name": "index",
         "rawType": "int64",
         "type": "integer"
        },
        {
         "name": "nama_kolom",
         "rawType": "object",
         "type": "string"
        },
        {
         "name": "kepentingan_fitur",
         "rawType": "float64",
         "type": "float"
        }
       ],
       "ref": "c0c05eb1-855c-45d1-a9db-c267303704ce",
       "rows": [
        [
         "0",
         "kepadatan_penduduk",
         "0.011455066604580342"
        ],
        [
         "1",
         "tingkat_pendidikan",
         "0.19156445681414025"
        ],
        [
         "2",
         "tingkat_pengangguran",
         "0.011371634388570572"
        ],
        [
         "3",
         "akses_air_bersih",
         "0.17825411911174385"
        ],
        [
         "4",
         "akses_listrik",
         "0.16917598651240837"
        ],
        [
         "5",
         "fasilitas_kesehatan",
         "0.006905118199748946"
        ],
        [
         "6",
         "jalan_aspal",
         "0.010345773377137615"
        ],
        [
         "7",
         "luas_sawah",
         "0.011019876531206417"
        ],
        [
         "8",
         "pendapatan_perkapita",
         "0.4099079684604636"
        ]
       ],
       "shape": {
        "columns": 2,
        "rows": 9
       }
      },
      "text/html": [
       "<div>\n",
       "<style scoped>\n",
       "    .dataframe tbody tr th:only-of-type {\n",
       "        vertical-align: middle;\n",
       "    }\n",
       "\n",
       "    .dataframe tbody tr th {\n",
       "        vertical-align: top;\n",
       "    }\n",
       "\n",
       "    .dataframe thead th {\n",
       "        text-align: right;\n",
       "    }\n",
       "</style>\n",
       "<table border=\"1\" class=\"dataframe\">\n",
       "  <thead>\n",
       "    <tr style=\"text-align: right;\">\n",
       "      <th></th>\n",
       "      <th>nama_kolom</th>\n",
       "      <th>kepentingan_fitur</th>\n",
       "    </tr>\n",
       "  </thead>\n",
       "  <tbody>\n",
       "    <tr>\n",
       "      <th>0</th>\n",
       "      <td>kepadatan_penduduk</td>\n",
       "      <td>0.011455</td>\n",
       "    </tr>\n",
       "    <tr>\n",
       "      <th>1</th>\n",
       "      <td>tingkat_pendidikan</td>\n",
       "      <td>0.191564</td>\n",
       "    </tr>\n",
       "    <tr>\n",
       "      <th>2</th>\n",
       "      <td>tingkat_pengangguran</td>\n",
       "      <td>0.011372</td>\n",
       "    </tr>\n",
       "    <tr>\n",
       "      <th>3</th>\n",
       "      <td>akses_air_bersih</td>\n",
       "      <td>0.178254</td>\n",
       "    </tr>\n",
       "    <tr>\n",
       "      <th>4</th>\n",
       "      <td>akses_listrik</td>\n",
       "      <td>0.169176</td>\n",
       "    </tr>\n",
       "    <tr>\n",
       "      <th>5</th>\n",
       "      <td>fasilitas_kesehatan</td>\n",
       "      <td>0.006905</td>\n",
       "    </tr>\n",
       "    <tr>\n",
       "      <th>6</th>\n",
       "      <td>jalan_aspal</td>\n",
       "      <td>0.010346</td>\n",
       "    </tr>\n",
       "    <tr>\n",
       "      <th>7</th>\n",
       "      <td>luas_sawah</td>\n",
       "      <td>0.011020</td>\n",
       "    </tr>\n",
       "    <tr>\n",
       "      <th>8</th>\n",
       "      <td>pendapatan_perkapita</td>\n",
       "      <td>0.409908</td>\n",
       "    </tr>\n",
       "  </tbody>\n",
       "</table>\n",
       "</div>"
      ],
      "text/plain": [
       "             nama_kolom  kepentingan_fitur\n",
       "0    kepadatan_penduduk           0.011455\n",
       "1    tingkat_pendidikan           0.191564\n",
       "2  tingkat_pengangguran           0.011372\n",
       "3      akses_air_bersih           0.178254\n",
       "4         akses_listrik           0.169176\n",
       "5   fasilitas_kesehatan           0.006905\n",
       "6           jalan_aspal           0.010346\n",
       "7            luas_sawah           0.011020\n",
       "8  pendapatan_perkapita           0.409908"
      ]
     },
     "execution_count": 48,
     "metadata": {},
     "output_type": "execute_result"
    }
   ],
   "source": [
    "# checking feature importances for numerical columns\n",
    "\n",
    "# list of numerical columns\n",
    "num_cols = ['kepadatan_penduduk',\n",
    "       'tingkat_pendidikan', 'tingkat_pengangguran', 'akses_air_bersih',\n",
    "       'akses_listrik', 'fasilitas_kesehatan', 'jalan_aspal', 'luas_sawah',\n",
    "       'pendapatan_perkapita']\n",
    "\n",
    "feature_rf = RandomForestClassifier()\n",
    "feature_rf.fit(X_train[num_cols], y_train)\n",
    "\n",
    "# create dataframe for feature importances\n",
    "num_selection = pd.DataFrame({\n",
    "    'nama_kolom': num_cols,\n",
    "    'kepentingan_fitur': feature_rf.feature_importances_\n",
    "})\n",
    "\n",
    "num_selection"
   ]
  },
  {
   "cell_type": "markdown",
   "id": "59d7d0c8",
   "metadata": {},
   "source": [
    "### Data Balancing"
   ]
  },
  {
   "cell_type": "code",
   "execution_count": 49,
   "id": "bf5dec1f",
   "metadata": {},
   "outputs": [
    {
     "data": {
      "application/vnd.microsoft.datawrangler.viewer.v0+json": {
       "columns": [
        {
         "name": "index",
         "rawType": "int64",
         "type": "integer"
        },
        {
         "name": "kemiskinan",
         "rawType": "int64",
         "type": "integer"
        },
        {
         "name": "count",
         "rawType": "int64",
         "type": "integer"
        },
        {
         "name": "percentase",
         "rawType": "float64",
         "type": "float"
        }
       ],
       "ref": "6dbb1b82-e4ca-40f5-933f-b9d72ee15102",
       "rows": [
        [
         "0",
         "0",
         "4055",
         "81.1"
        ],
        [
         "1",
         "1",
         "945",
         "18.9"
        ]
       ],
       "shape": {
        "columns": 3,
        "rows": 2
       }
      },
      "text/html": [
       "<div>\n",
       "<style scoped>\n",
       "    .dataframe tbody tr th:only-of-type {\n",
       "        vertical-align: middle;\n",
       "    }\n",
       "\n",
       "    .dataframe tbody tr th {\n",
       "        vertical-align: top;\n",
       "    }\n",
       "\n",
       "    .dataframe thead th {\n",
       "        text-align: right;\n",
       "    }\n",
       "</style>\n",
       "<table border=\"1\" class=\"dataframe\">\n",
       "  <thead>\n",
       "    <tr style=\"text-align: right;\">\n",
       "      <th></th>\n",
       "      <th>kemiskinan</th>\n",
       "      <th>count</th>\n",
       "      <th>percentase</th>\n",
       "    </tr>\n",
       "  </thead>\n",
       "  <tbody>\n",
       "    <tr>\n",
       "      <th>0</th>\n",
       "      <td>0</td>\n",
       "      <td>4055</td>\n",
       "      <td>81.1</td>\n",
       "    </tr>\n",
       "    <tr>\n",
       "      <th>1</th>\n",
       "      <td>1</td>\n",
       "      <td>945</td>\n",
       "      <td>18.9</td>\n",
       "    </tr>\n",
       "  </tbody>\n",
       "</table>\n",
       "</div>"
      ],
      "text/plain": [
       "   kemiskinan  count  percentase\n",
       "0           0   4055        81.1\n",
       "1           1    945        18.9"
      ]
     },
     "execution_count": 49,
     "metadata": {},
     "output_type": "execute_result"
    }
   ],
   "source": [
    "# check balance of the data\n",
    "unbalanced_data = y.value_counts().reset_index()\n",
    "\n",
    "# calculate percentage\n",
    "unbalanced_data['percentase'] = (unbalanced_data['count']/unbalanced_data['count'].sum()) * 100\n",
    "\n",
    "# show table\n",
    "unbalanced_data.round(2)"
   ]
  },
  {
   "cell_type": "markdown",
   "id": "45cb26bb",
   "metadata": {},
   "source": [
    "Explanation:\n",
    "\n",
    "The data have a moderate imbalanced data. We need to balance it using SMOTENC"
   ]
  },
  {
   "cell_type": "code",
   "execution_count": 50,
   "id": "258b8c8a",
   "metadata": {},
   "outputs": [
    {
     "data": {
      "application/vnd.microsoft.datawrangler.viewer.v0+json": {
       "columns": [
        {
         "name": "index",
         "rawType": "int64",
         "type": "integer"
        },
        {
         "name": "kepadatan_penduduk",
         "rawType": "float64",
         "type": "float"
        },
        {
         "name": "tingkat_pendidikan",
         "rawType": "float64",
         "type": "float"
        },
        {
         "name": "tingkat_pengangguran",
         "rawType": "float64",
         "type": "float"
        },
        {
         "name": "akses_air_bersih",
         "rawType": "float64",
         "type": "float"
        },
        {
         "name": "akses_listrik",
         "rawType": "float64",
         "type": "float"
        },
        {
         "name": "fasilitas_kesehatan",
         "rawType": "int64",
         "type": "integer"
        },
        {
         "name": "jalan_aspal",
         "rawType": "float64",
         "type": "float"
        },
        {
         "name": "luas_sawah",
         "rawType": "float64",
         "type": "float"
        },
        {
         "name": "pendapatan_perkapita",
         "rawType": "float64",
         "type": "float"
        },
        {
         "name": "jenis_wilayah",
         "rawType": "object",
         "type": "string"
        }
       ],
       "ref": "3fa7993a-b1a5-4790-a3e6-7269d844bb62",
       "rows": [
        [
         "3315",
         "445.53",
         "9.35",
         "6.2",
         "80.99",
         "96.26",
         "11",
         "61.86",
         "490.02",
         "1294872.18",
         "rural"
        ],
        [
         "2214",
         "23.46",
         "8.53",
         "2.67",
         "54.18",
         "94.21",
         "20",
         "36.59",
         "5215.28",
         "4786881.99",
         "rural"
        ],
        [
         "2956",
         "539.63",
         "11.13",
         "1.11",
         "60.58",
         "93.14",
         "16",
         "93.61",
         "1551.84",
         "5484818.08",
         "urban"
        ],
        [
         "961",
         "1007.42",
         "7.64",
         "4.32",
         "55.0",
         "88.91",
         "8",
         "75.73",
         "3186.16",
         "2203804.88",
         "urban"
        ],
        [
         "3603",
         "6377.07",
         "13.07",
         "12.32",
         "57.76",
         "79.1",
         "16",
         "80.56",
         "6488.42",
         "2578289.35",
         "rural"
        ],
        [
         "574",
         "940.3",
         "11.95",
         "6.0",
         "89.02",
         "39.63",
         "16",
         "53.87",
         "3079.6",
         "2377491.2",
         "urban"
        ],
        [
         "4045",
         "1043.3",
         "2.41",
         "1.63",
         "81.88",
         "74.72",
         "7",
         "70.6",
         "3706.53",
         "539980.44",
         "urban"
        ],
        [
         "4547",
         "92.86",
         "8.09",
         "1.07",
         "67.17",
         "94.08",
         "15",
         "80.47",
         "4194.41",
         "6848029.64",
         "urban"
        ],
        [
         "750",
         "189.71",
         "14.06",
         "1.53",
         "66.87",
         "67.03",
         "6",
         "72.38",
         "6535.95",
         "945675.56",
         "urban"
        ],
        [
         "1865",
         "1125.01",
         "8.86",
         "6.05",
         "80.17",
         "97.23",
         "27",
         "48.12",
         "1429.58",
         "1140429.0",
         "urban"
        ],
        [
         "2329",
         "611.18",
         "8.6",
         "4.35",
         "71.35",
         "97.55",
         "16",
         "82.64",
         "73.34",
         "3227746.36",
         "urban"
        ],
        [
         "4341",
         "58.72",
         "8.91",
         "2.65",
         "92.24",
         "92.97",
         "19",
         "64.68",
         "519.2",
         "1626951.61",
         "urban"
        ],
        [
         "374",
         "111.64",
         "7.05",
         "4.6",
         "74.25",
         "76.15",
         "18",
         "75.86",
         "17316.73",
         "1047307.76",
         "rural"
        ],
        [
         "3859",
         "16.85",
         "11.13",
         "5.49",
         "68.66",
         "68.28",
         "9",
         "74.37",
         "1786.98",
         "1554741.48",
         "urban"
        ],
        [
         "2042",
         "463.81",
         "8.01",
         "9.12",
         "79.47",
         "70.32",
         "14",
         "85.77",
         "7619.48",
         "4046399.57",
         "urban"
        ],
        [
         "3555",
         "75.89",
         "5.59",
         "6.46",
         "90.35",
         "84.31",
         "14",
         "59.03",
         "2960.43",
         "4360596.24",
         "rural"
        ],
        [
         "1195",
         "78.15",
         "9.77",
         "10.92",
         "59.53",
         "81.73",
         "21",
         "37.89",
         "808.15",
         "2812048.46",
         "rural"
        ],
        [
         "1406",
         "300.05",
         "9.7",
         "3.46",
         "73.9",
         "89.75",
         "8",
         "65.08",
         "2326.02",
         "1222649.39",
         "rural"
        ],
        [
         "1713",
         "103.97",
         "6.25",
         "8.41",
         "81.73",
         "50.91",
         "11",
         "48.89",
         "9731.74",
         "1553098.58",
         "urban"
        ],
        [
         "3363",
         "150.13",
         "5.35",
         "2.49",
         "89.6",
         "87.17",
         "13",
         "85.33",
         "2743.14",
         "2065857.23",
         "urban"
        ],
        [
         "4684",
         "667.12",
         "9.47",
         "6.37",
         "67.67",
         "85.35",
         "12",
         "51.96",
         "6211.6",
         "7295103.54",
         "rural"
        ],
        [
         "44",
         "67.71",
         "6.21",
         "3.2",
         "85.08",
         "92.23",
         "12",
         "60.69",
         "6094.41",
         "839158.14",
         "rural"
        ],
        [
         "2280",
         "3.4",
         "8.15",
         "8.8",
         "91.2",
         "72.3",
         "12",
         "57.53",
         "5710.62",
         "3771058.55",
         "urban"
        ],
        [
         "1766",
         "94.97",
         "8.11",
         "8.63",
         "90.72",
         "98.24",
         "21",
         "32.39",
         "1174.22",
         "1542608.73",
         "urban"
        ],
        [
         "3807",
         "202.67",
         "9.71",
         "11.39",
         "75.57",
         "95.44",
         "17",
         "66.11",
         "514.13",
         "1625390.1",
         "rural"
        ],
        [
         "3879",
         "125.49",
         "8.74",
         "8.5",
         "63.06",
         "98.8",
         "9",
         "61.39",
         "4492.18",
         "1770297.95",
         "urban"
        ],
        [
         "2972",
         "2165.92",
         "9.18",
         "3.29",
         "67.94",
         "88.5",
         "14",
         "69.56",
         "858.75",
         "1783733.25",
         "urban"
        ],
        [
         "412",
         "7.03",
         "14.09",
         "13.7",
         "94.5",
         "84.64",
         "20",
         "70.41",
         "1584.18",
         "1334783.45",
         "urban"
        ],
        [
         "628",
         "1295.36",
         "8.61",
         "1.7",
         "85.46",
         "85.58",
         "10",
         "76.83",
         "359.99",
         "1587576.1",
         "urban"
        ],
        [
         "4927",
         "66.57",
         "8.03",
         "3.36",
         "75.22",
         "75.29",
         "11",
         "64.09",
         "5665.37",
         "5059638.29",
         "urban"
        ],
        [
         "1046",
         "461.71",
         "6.6",
         "6.45",
         "92.07",
         "84.13",
         "18",
         "76.85",
         "2942.2",
         "5413446.28",
         "urban"
        ],
        [
         "1513",
         "74.14",
         "10.9",
         "4.79",
         "63.11",
         "85.58",
         "15",
         "41.05",
         "3280.38",
         "6681059.17",
         "urban"
        ],
        [
         "318",
         "48.26",
         "10.76",
         "13.07",
         "82.07",
         "80.5",
         "18",
         "33.54",
         "3812.01",
         "2959759.85",
         "rural"
        ],
        [
         "3105",
         "756.28",
         "8.17",
         "8.97",
         "97.08",
         "95.52",
         "11",
         "64.91",
         "707.82",
         "750246.14",
         "urban"
        ],
        [
         "2827",
         "259.56",
         "8.73",
         "0.64",
         "64.72",
         "75.62",
         "16",
         "55.15",
         "6209.3",
         "6351800.51",
         "rural"
        ],
        [
         "3526",
         "26.01",
         "9.98",
         "11.09",
         "93.37",
         "79.91",
         "20",
         "71.22",
         "11195.37",
         "5033386.44",
         "rural"
        ],
        [
         "3468",
         "186.38",
         "10.23",
         "7.98",
         "49.73",
         "85.68",
         "16",
         "89.21",
         "804.05",
         "9269690.35",
         "urban"
        ],
        [
         "3910",
         "187.66",
         "11.17",
         "3.53",
         "68.94",
         "49.01",
         "20",
         "63.51",
         "13459.02",
         "3737111.88",
         "urban"
        ],
        [
         "4267",
         "301.85",
         "10.04",
         "13.47",
         "40.81",
         "94.65",
         "14",
         "63.99",
         "2633.74",
         "497021.94",
         "urban"
        ],
        [
         "815",
         "59.26",
         "10.57",
         "4.67",
         "71.42",
         "94.56",
         "11",
         "63.93",
         "1573.64",
         "582354.23",
         "urban"
        ],
        [
         "3478",
         "31.44",
         "6.64",
         "9.66",
         "64.25",
         "96.87",
         "12",
         "75.76",
         "50.02",
         "1044261.63",
         "urban"
        ],
        [
         "3543",
         "89.85",
         "11.25",
         "4.1",
         "73.85",
         "84.15",
         "20",
         "31.29",
         "4626.8",
         "2394939.3",
         "urban"
        ],
        [
         "2000",
         "76.93",
         "10.59",
         "4.73",
         "89.45",
         "94.1",
         "11",
         "66.6",
         "6044.18",
         "2334407.48",
         "urban"
        ],
        [
         "2009",
         "93.73",
         "7.96",
         "11.24",
         "77.06",
         "70.09",
         "18",
         "77.21",
         "2134.86",
         "937095.38",
         "urban"
        ],
        [
         "579",
         "70.55",
         "8.57",
         "4.74",
         "84.14",
         "93.81",
         "10",
         "45.14",
         "3815.76",
         "893317.18",
         "urban"
        ],
        [
         "3921",
         "71.92",
         "11.07",
         "1.31",
         "79.3",
         "89.12",
         "17",
         "64.55",
         "1862.17",
         "1024523.22",
         "urban"
        ],
        [
         "3641",
         "110.92",
         "10.06",
         "4.48",
         "82.27",
         "85.44",
         "16",
         "66.48",
         "5547.61",
         "1729396.24",
         "urban"
        ],
        [
         "1402",
         "78.06",
         "6.94",
         "10.03",
         "81.79",
         "83.85",
         "18",
         "40.22",
         "14501.7",
         "3779384.79",
         "rural"
        ],
        [
         "3187",
         "128.55",
         "7.89",
         "5.17",
         "62.82",
         "88.52",
         "19",
         "57.42",
         "1940.08",
         "2711268.91",
         "urban"
        ],
        [
         "1294",
         "170.27",
         "12.03",
         "0.16",
         "91.94",
         "79.43",
         "16",
         "71.0",
         "13691.18",
         "4313739.6",
         "urban"
        ]
       ],
       "shape": {
        "columns": 10,
        "rows": 3600
       }
      },
      "text/html": [
       "<div>\n",
       "<style scoped>\n",
       "    .dataframe tbody tr th:only-of-type {\n",
       "        vertical-align: middle;\n",
       "    }\n",
       "\n",
       "    .dataframe tbody tr th {\n",
       "        vertical-align: top;\n",
       "    }\n",
       "\n",
       "    .dataframe thead th {\n",
       "        text-align: right;\n",
       "    }\n",
       "</style>\n",
       "<table border=\"1\" class=\"dataframe\">\n",
       "  <thead>\n",
       "    <tr style=\"text-align: right;\">\n",
       "      <th></th>\n",
       "      <th>kepadatan_penduduk</th>\n",
       "      <th>tingkat_pendidikan</th>\n",
       "      <th>tingkat_pengangguran</th>\n",
       "      <th>akses_air_bersih</th>\n",
       "      <th>akses_listrik</th>\n",
       "      <th>fasilitas_kesehatan</th>\n",
       "      <th>jalan_aspal</th>\n",
       "      <th>luas_sawah</th>\n",
       "      <th>pendapatan_perkapita</th>\n",
       "      <th>jenis_wilayah</th>\n",
       "    </tr>\n",
       "  </thead>\n",
       "  <tbody>\n",
       "    <tr>\n",
       "      <th>3315</th>\n",
       "      <td>445.53</td>\n",
       "      <td>9.35</td>\n",
       "      <td>6.20</td>\n",
       "      <td>80.99</td>\n",
       "      <td>96.26</td>\n",
       "      <td>11</td>\n",
       "      <td>61.86</td>\n",
       "      <td>490.02</td>\n",
       "      <td>1294872.18</td>\n",
       "      <td>rural</td>\n",
       "    </tr>\n",
       "    <tr>\n",
       "      <th>2214</th>\n",
       "      <td>23.46</td>\n",
       "      <td>8.53</td>\n",
       "      <td>2.67</td>\n",
       "      <td>54.18</td>\n",
       "      <td>94.21</td>\n",
       "      <td>20</td>\n",
       "      <td>36.59</td>\n",
       "      <td>5215.28</td>\n",
       "      <td>4786881.99</td>\n",
       "      <td>rural</td>\n",
       "    </tr>\n",
       "    <tr>\n",
       "      <th>2956</th>\n",
       "      <td>539.63</td>\n",
       "      <td>11.13</td>\n",
       "      <td>1.11</td>\n",
       "      <td>60.58</td>\n",
       "      <td>93.14</td>\n",
       "      <td>16</td>\n",
       "      <td>93.61</td>\n",
       "      <td>1551.84</td>\n",
       "      <td>5484818.08</td>\n",
       "      <td>urban</td>\n",
       "    </tr>\n",
       "    <tr>\n",
       "      <th>961</th>\n",
       "      <td>1007.42</td>\n",
       "      <td>7.64</td>\n",
       "      <td>4.32</td>\n",
       "      <td>55.00</td>\n",
       "      <td>88.91</td>\n",
       "      <td>8</td>\n",
       "      <td>75.73</td>\n",
       "      <td>3186.16</td>\n",
       "      <td>2203804.88</td>\n",
       "      <td>urban</td>\n",
       "    </tr>\n",
       "    <tr>\n",
       "      <th>3603</th>\n",
       "      <td>6377.07</td>\n",
       "      <td>13.07</td>\n",
       "      <td>12.32</td>\n",
       "      <td>57.76</td>\n",
       "      <td>79.10</td>\n",
       "      <td>16</td>\n",
       "      <td>80.56</td>\n",
       "      <td>6488.42</td>\n",
       "      <td>2578289.35</td>\n",
       "      <td>rural</td>\n",
       "    </tr>\n",
       "    <tr>\n",
       "      <th>...</th>\n",
       "      <td>...</td>\n",
       "      <td>...</td>\n",
       "      <td>...</td>\n",
       "      <td>...</td>\n",
       "      <td>...</td>\n",
       "      <td>...</td>\n",
       "      <td>...</td>\n",
       "      <td>...</td>\n",
       "      <td>...</td>\n",
       "      <td>...</td>\n",
       "    </tr>\n",
       "    <tr>\n",
       "      <th>4475</th>\n",
       "      <td>78.94</td>\n",
       "      <td>5.02</td>\n",
       "      <td>6.40</td>\n",
       "      <td>68.77</td>\n",
       "      <td>90.82</td>\n",
       "      <td>12</td>\n",
       "      <td>31.15</td>\n",
       "      <td>9732.30</td>\n",
       "      <td>1879400.25</td>\n",
       "      <td>urban</td>\n",
       "    </tr>\n",
       "    <tr>\n",
       "      <th>15</th>\n",
       "      <td>258.17</td>\n",
       "      <td>8.80</td>\n",
       "      <td>8.31</td>\n",
       "      <td>79.69</td>\n",
       "      <td>73.86</td>\n",
       "      <td>12</td>\n",
       "      <td>82.39</td>\n",
       "      <td>1899.40</td>\n",
       "      <td>1373596.69</td>\n",
       "      <td>urban</td>\n",
       "    </tr>\n",
       "    <tr>\n",
       "      <th>3955</th>\n",
       "      <td>352.47</td>\n",
       "      <td>9.90</td>\n",
       "      <td>11.23</td>\n",
       "      <td>81.54</td>\n",
       "      <td>67.38</td>\n",
       "      <td>17</td>\n",
       "      <td>66.21</td>\n",
       "      <td>12672.48</td>\n",
       "      <td>1431226.66</td>\n",
       "      <td>urban</td>\n",
       "    </tr>\n",
       "    <tr>\n",
       "      <th>2275</th>\n",
       "      <td>147.18</td>\n",
       "      <td>12.04</td>\n",
       "      <td>15.70</td>\n",
       "      <td>93.85</td>\n",
       "      <td>76.57</td>\n",
       "      <td>15</td>\n",
       "      <td>67.71</td>\n",
       "      <td>4587.65</td>\n",
       "      <td>1355670.39</td>\n",
       "      <td>rural</td>\n",
       "    </tr>\n",
       "    <tr>\n",
       "      <th>2397</th>\n",
       "      <td>61.82</td>\n",
       "      <td>8.73</td>\n",
       "      <td>5.23</td>\n",
       "      <td>74.35</td>\n",
       "      <td>77.58</td>\n",
       "      <td>10</td>\n",
       "      <td>50.42</td>\n",
       "      <td>3120.37</td>\n",
       "      <td>1290488.91</td>\n",
       "      <td>rural</td>\n",
       "    </tr>\n",
       "  </tbody>\n",
       "</table>\n",
       "<p>3600 rows × 10 columns</p>\n",
       "</div>"
      ],
      "text/plain": [
       "      kepadatan_penduduk  tingkat_pendidikan  tingkat_pengangguran  \\\n",
       "3315              445.53                9.35                  6.20   \n",
       "2214               23.46                8.53                  2.67   \n",
       "2956              539.63               11.13                  1.11   \n",
       "961              1007.42                7.64                  4.32   \n",
       "3603             6377.07               13.07                 12.32   \n",
       "...                  ...                 ...                   ...   \n",
       "4475               78.94                5.02                  6.40   \n",
       "15                258.17                8.80                  8.31   \n",
       "3955              352.47                9.90                 11.23   \n",
       "2275              147.18               12.04                 15.70   \n",
       "2397               61.82                8.73                  5.23   \n",
       "\n",
       "      akses_air_bersih  akses_listrik  fasilitas_kesehatan  jalan_aspal  \\\n",
       "3315             80.99          96.26                   11        61.86   \n",
       "2214             54.18          94.21                   20        36.59   \n",
       "2956             60.58          93.14                   16        93.61   \n",
       "961              55.00          88.91                    8        75.73   \n",
       "3603             57.76          79.10                   16        80.56   \n",
       "...                ...            ...                  ...          ...   \n",
       "4475             68.77          90.82                   12        31.15   \n",
       "15               79.69          73.86                   12        82.39   \n",
       "3955             81.54          67.38                   17        66.21   \n",
       "2275             93.85          76.57                   15        67.71   \n",
       "2397             74.35          77.58                   10        50.42   \n",
       "\n",
       "      luas_sawah  pendapatan_perkapita jenis_wilayah  \n",
       "3315      490.02            1294872.18         rural  \n",
       "2214     5215.28            4786881.99         rural  \n",
       "2956     1551.84            5484818.08         urban  \n",
       "961      3186.16            2203804.88         urban  \n",
       "3603     6488.42            2578289.35         rural  \n",
       "...          ...                   ...           ...  \n",
       "4475     9732.30            1879400.25         urban  \n",
       "15       1899.40            1373596.69         urban  \n",
       "3955    12672.48            1431226.66         urban  \n",
       "2275     4587.65            1355670.39         rural  \n",
       "2397     3120.37            1290488.91         rural  \n",
       "\n",
       "[3600 rows x 10 columns]"
      ]
     },
     "execution_count": 50,
     "metadata": {},
     "output_type": "execute_result"
    }
   ],
   "source": [
    "X_train"
   ]
  },
  {
   "cell_type": "code",
   "execution_count": 51,
   "id": "d26e8a56",
   "metadata": {},
   "outputs": [
    {
     "name": "stderr",
     "output_type": "stream",
     "text": [
      "c:\\Users\\Asus\\anaconda3\\envs\\tensorflow_env\\lib\\site-packages\\sklearn\\base.py:484: FutureWarning: `BaseEstimator._check_n_features` is deprecated in 1.6 and will be removed in 1.7. Use `sklearn.utils.validation._check_n_features` instead.\n",
      "  warnings.warn(\n",
      "c:\\Users\\Asus\\anaconda3\\envs\\tensorflow_env\\lib\\site-packages\\sklearn\\base.py:493: FutureWarning: `BaseEstimator._check_feature_names` is deprecated in 1.6 and will be removed in 1.7. Use `sklearn.utils.validation._check_feature_names` instead.\n",
      "  warnings.warn(\n"
     ]
    }
   ],
   "source": [
    "# balancing process\n",
    "smotenc = SMOTENC([9], categorical_encoder=None, random_state=45)\n",
    "X_train_resample, y_train_resample = smotenc.fit_resample(X_train, y_train)"
   ]
  },
  {
   "cell_type": "code",
   "execution_count": 52,
   "id": "ef2812f4",
   "metadata": {},
   "outputs": [
    {
     "data": {
      "application/vnd.microsoft.datawrangler.viewer.v0+json": {
       "columns": [
        {
         "name": "index",
         "rawType": "int64",
         "type": "integer"
        },
        {
         "name": "kemiskinan",
         "rawType": "int64",
         "type": "integer"
        },
        {
         "name": "count",
         "rawType": "int64",
         "type": "integer"
        }
       ],
       "ref": "24b7cf1a-cf11-4001-a6e8-34ce1e9266fd",
       "rows": [
        [
         "0",
         "0",
         "2918"
        ],
        [
         "1",
         "1",
         "2918"
        ]
       ],
       "shape": {
        "columns": 2,
        "rows": 2
       }
      },
      "text/html": [
       "<div>\n",
       "<style scoped>\n",
       "    .dataframe tbody tr th:only-of-type {\n",
       "        vertical-align: middle;\n",
       "    }\n",
       "\n",
       "    .dataframe tbody tr th {\n",
       "        vertical-align: top;\n",
       "    }\n",
       "\n",
       "    .dataframe thead th {\n",
       "        text-align: right;\n",
       "    }\n",
       "</style>\n",
       "<table border=\"1\" class=\"dataframe\">\n",
       "  <thead>\n",
       "    <tr style=\"text-align: right;\">\n",
       "      <th></th>\n",
       "      <th>kemiskinan</th>\n",
       "      <th>count</th>\n",
       "    </tr>\n",
       "  </thead>\n",
       "  <tbody>\n",
       "    <tr>\n",
       "      <th>0</th>\n",
       "      <td>0</td>\n",
       "      <td>2918</td>\n",
       "    </tr>\n",
       "    <tr>\n",
       "      <th>1</th>\n",
       "      <td>1</td>\n",
       "      <td>2918</td>\n",
       "    </tr>\n",
       "  </tbody>\n",
       "</table>\n",
       "</div>"
      ],
      "text/plain": [
       "   kemiskinan  count\n",
       "0           0   2918\n",
       "1           1   2918"
      ]
     },
     "execution_count": 52,
     "metadata": {},
     "output_type": "execute_result"
    }
   ],
   "source": [
    "# check amount per target\n",
    "balanced_data = y_train_resample.value_counts().reset_index()\n",
    "balanced_data"
   ]
  },
  {
   "cell_type": "markdown",
   "id": "6e873d43",
   "metadata": {},
   "source": [
    "Explanation:\n",
    "\n",
    "The data now are balance."
   ]
  },
  {
   "cell_type": "markdown",
   "id": "ba8b5eb0",
   "metadata": {},
   "source": [
    "### Create Pipeline for preprocessing process"
   ]
  },
  {
   "cell_type": "code",
   "execution_count": 53,
   "id": "a9000200",
   "metadata": {},
   "outputs": [
    {
     "data": {
      "application/vnd.microsoft.datawrangler.viewer.v0+json": {
       "columns": [
        {
         "name": "index",
         "rawType": "int64",
         "type": "integer"
        },
        {
         "name": "nama_kolom",
         "rawType": "object",
         "type": "string"
        },
        {
         "name": "nilai_skewness",
         "rawType": "float64",
         "type": "float"
        },
        {
         "name": "tipe_distribusi",
         "rawType": "object",
         "type": "unknown"
        }
       ],
       "ref": "6ca0ba34-4201-4bb8-8619-027a06dca6cb",
       "rows": [
        [
         "0",
         "kepadatan_penduduk",
         "13.5",
         "skew"
        ],
        [
         "1",
         "tingkat_pendidikan",
         "-0.0",
         "normal"
        ],
        [
         "2",
         "tingkat_pengangguran",
         "1.4",
         "skew"
        ],
        [
         "3",
         "akses_air_bersih",
         "-0.8",
         "skew"
        ],
        [
         "4",
         "akses_listrik",
         "-1.1",
         "skew"
        ],
        [
         "5",
         "fasilitas_kesehatan",
         "0.3",
         "normal"
        ],
        [
         "6",
         "jalan_aspal",
         "-0.2",
         "normal"
        ],
        [
         "7",
         "luas_sawah",
         "2.0",
         "skew"
        ],
        [
         "8",
         "pendapatan_perkapita",
         "3.2",
         "skew"
        ]
       ],
       "shape": {
        "columns": 3,
        "rows": 9
       }
      },
      "text/html": [
       "<div>\n",
       "<style scoped>\n",
       "    .dataframe tbody tr th:only-of-type {\n",
       "        vertical-align: middle;\n",
       "    }\n",
       "\n",
       "    .dataframe tbody tr th {\n",
       "        vertical-align: top;\n",
       "    }\n",
       "\n",
       "    .dataframe thead th {\n",
       "        text-align: right;\n",
       "    }\n",
       "</style>\n",
       "<table border=\"1\" class=\"dataframe\">\n",
       "  <thead>\n",
       "    <tr style=\"text-align: right;\">\n",
       "      <th></th>\n",
       "      <th>nama_kolom</th>\n",
       "      <th>nilai_skewness</th>\n",
       "      <th>tipe_distribusi</th>\n",
       "    </tr>\n",
       "  </thead>\n",
       "  <tbody>\n",
       "    <tr>\n",
       "      <th>0</th>\n",
       "      <td>kepadatan_penduduk</td>\n",
       "      <td>13.5</td>\n",
       "      <td>skew</td>\n",
       "    </tr>\n",
       "    <tr>\n",
       "      <th>1</th>\n",
       "      <td>tingkat_pendidikan</td>\n",
       "      <td>-0.0</td>\n",
       "      <td>normal</td>\n",
       "    </tr>\n",
       "    <tr>\n",
       "      <th>2</th>\n",
       "      <td>tingkat_pengangguran</td>\n",
       "      <td>1.4</td>\n",
       "      <td>skew</td>\n",
       "    </tr>\n",
       "    <tr>\n",
       "      <th>3</th>\n",
       "      <td>akses_air_bersih</td>\n",
       "      <td>-0.8</td>\n",
       "      <td>skew</td>\n",
       "    </tr>\n",
       "    <tr>\n",
       "      <th>4</th>\n",
       "      <td>akses_listrik</td>\n",
       "      <td>-1.1</td>\n",
       "      <td>skew</td>\n",
       "    </tr>\n",
       "    <tr>\n",
       "      <th>5</th>\n",
       "      <td>fasilitas_kesehatan</td>\n",
       "      <td>0.3</td>\n",
       "      <td>normal</td>\n",
       "    </tr>\n",
       "    <tr>\n",
       "      <th>6</th>\n",
       "      <td>jalan_aspal</td>\n",
       "      <td>-0.2</td>\n",
       "      <td>normal</td>\n",
       "    </tr>\n",
       "    <tr>\n",
       "      <th>7</th>\n",
       "      <td>luas_sawah</td>\n",
       "      <td>2.0</td>\n",
       "      <td>skew</td>\n",
       "    </tr>\n",
       "    <tr>\n",
       "      <th>8</th>\n",
       "      <td>pendapatan_perkapita</td>\n",
       "      <td>3.2</td>\n",
       "      <td>skew</td>\n",
       "    </tr>\n",
       "  </tbody>\n",
       "</table>\n",
       "</div>"
      ],
      "text/plain": [
       "             nama_kolom  nilai_skewness tipe_distribusi\n",
       "0    kepadatan_penduduk            13.5            skew\n",
       "1    tingkat_pendidikan            -0.0          normal\n",
       "2  tingkat_pengangguran             1.4            skew\n",
       "3      akses_air_bersih            -0.8            skew\n",
       "4         akses_listrik            -1.1            skew\n",
       "5   fasilitas_kesehatan             0.3          normal\n",
       "6           jalan_aspal            -0.2          normal\n",
       "7            luas_sawah             2.0            skew\n",
       "8  pendapatan_perkapita             3.2            skew"
      ]
     },
     "execution_count": 53,
     "metadata": {},
     "output_type": "execute_result"
    }
   ],
   "source": [
    "skewness"
   ]
  },
  {
   "cell_type": "code",
   "execution_count": 54,
   "id": "7f4d8abb",
   "metadata": {},
   "outputs": [],
   "source": [
    "# list of column included in traiing process\n",
    "num_cols = ['tingkat_pendidikan', 'akses_air_bersih','akses_listrik',\n",
    "           'pendapatan_perkapita']\n",
    "cat_cols = ['jenis_wilayah']\n",
    "\n",
    "# create pipeline\n",
    "num_pipeline = Pipeline([('scaler_standard', StandardScaler())])\n",
    "cat_pipeline = Pipeline([('scaler_onehot', OneHotEncoder())])\n",
    "\n",
    "# encoding pipeline\n",
    "preprocess_pipe = ColumnTransformer([('num_pipe', num_pipeline, num_cols),\n",
    "                                     ('cat_pipe', cat_pipeline, cat_cols)])\n",
    "\n",
    "# encoding process\n",
    "X_train_encoded = preprocess_pipe.fit_transform(X_train_resample)\n",
    "X_eval_encoded = preprocess_pipe.transform(X_eval)\n",
    "X_test_encoded = preprocess_pipe.transform(X_test)\n",
    "\n",
    "# save pipeline\n",
    "with open('encode_pipeline.pkl', 'wb') as encode:\n",
    "    pickle.dump(preprocess_pipe, encode)"
   ]
  },
  {
   "cell_type": "code",
   "execution_count": 55,
   "id": "a9ef6361",
   "metadata": {},
   "outputs": [
    {
     "data": {
      "text/plain": [
       "array([[1., 0.],\n",
       "       [1., 0.],\n",
       "       [1., 0.],\n",
       "       ...,\n",
       "       [0., 1.],\n",
       "       [0., 1.],\n",
       "       [0., 1.]], dtype=float32)"
      ]
     },
     "execution_count": 55,
     "metadata": {},
     "output_type": "execute_result"
    }
   ],
   "source": [
    "# target encoding\n",
    "y_train_encoded = to_categorical(y_train_resample)\n",
    "y_eval_encoded = to_categorical(y_eval)\n",
    "y_test_encoded = to_categorical(y_test)\n",
    "\n",
    "# show example encoded target\n",
    "y_train_encoded"
   ]
  },
  {
   "cell_type": "code",
   "execution_count": 56,
   "id": "7e52d05f",
   "metadata": {},
   "outputs": [
    {
     "data": {
      "application/vnd.microsoft.datawrangler.viewer.v0+json": {
       "columns": [
        {
         "name": "index",
         "rawType": "int64",
         "type": "integer"
        },
        {
         "name": "kepadatan_penduduk",
         "rawType": "float64",
         "type": "float"
        },
        {
         "name": "tingkat_pendidikan",
         "rawType": "float64",
         "type": "float"
        },
        {
         "name": "tingkat_pengangguran",
         "rawType": "float64",
         "type": "float"
        },
        {
         "name": "akses_air_bersih",
         "rawType": "float64",
         "type": "float"
        },
        {
         "name": "akses_listrik",
         "rawType": "float64",
         "type": "float"
        },
        {
         "name": "fasilitas_kesehatan",
         "rawType": "int64",
         "type": "integer"
        },
        {
         "name": "jalan_aspal",
         "rawType": "float64",
         "type": "float"
        },
        {
         "name": "luas_sawah",
         "rawType": "float64",
         "type": "float"
        },
        {
         "name": "pendapatan_perkapita",
         "rawType": "float64",
         "type": "float"
        },
        {
         "name": "jenis_wilayah",
         "rawType": "object",
         "type": "string"
        }
       ],
       "ref": "4fe77f35-9b70-4368-b680-4b666b2be473",
       "rows": [
        [
         "0",
         "445.53",
         "9.35",
         "6.2",
         "80.99",
         "96.26",
         "11",
         "61.86",
         "490.02",
         "1294872.18",
         "rural"
        ],
        [
         "1",
         "23.46",
         "8.53",
         "2.67",
         "54.18",
         "94.21",
         "20",
         "36.59",
         "5215.28",
         "4786881.99",
         "rural"
        ],
        [
         "2",
         "539.63",
         "11.13",
         "1.11",
         "60.58",
         "93.14",
         "16",
         "93.61",
         "1551.84",
         "5484818.08",
         "urban"
        ],
        [
         "3",
         "1007.42",
         "7.64",
         "4.32",
         "55.0",
         "88.91",
         "8",
         "75.73",
         "3186.16",
         "2203804.88",
         "urban"
        ],
        [
         "4",
         "6377.07",
         "13.07",
         "12.32",
         "57.76",
         "79.1",
         "16",
         "80.56",
         "6488.42",
         "2578289.35",
         "rural"
        ],
        [
         "5",
         "940.3",
         "11.95",
         "6.0",
         "89.02",
         "39.63",
         "16",
         "53.87",
         "3079.6",
         "2377491.2",
         "urban"
        ],
        [
         "6",
         "1043.3",
         "2.41",
         "1.63",
         "81.88",
         "74.72",
         "7",
         "70.6",
         "3706.53",
         "539980.44",
         "urban"
        ],
        [
         "7",
         "92.86",
         "8.09",
         "1.07",
         "67.17",
         "94.08",
         "15",
         "80.47",
         "4194.41",
         "6848029.64",
         "urban"
        ],
        [
         "8",
         "189.71",
         "14.06",
         "1.53",
         "66.87",
         "67.03",
         "6",
         "72.38",
         "6535.95",
         "945675.56",
         "urban"
        ],
        [
         "9",
         "1125.01",
         "8.86",
         "6.05",
         "80.17",
         "97.23",
         "27",
         "48.12",
         "1429.58",
         "1140429.0",
         "urban"
        ],
        [
         "10",
         "611.18",
         "8.6",
         "4.35",
         "71.35",
         "97.55",
         "16",
         "82.64",
         "73.34",
         "3227746.36",
         "urban"
        ],
        [
         "11",
         "58.72",
         "8.91",
         "2.65",
         "92.24",
         "92.97",
         "19",
         "64.68",
         "519.2",
         "1626951.61",
         "urban"
        ],
        [
         "12",
         "111.64",
         "7.05",
         "4.6",
         "74.25",
         "76.15",
         "18",
         "75.86",
         "17316.73",
         "1047307.76",
         "rural"
        ],
        [
         "13",
         "16.85",
         "11.13",
         "5.49",
         "68.66",
         "68.28",
         "9",
         "74.37",
         "1786.98",
         "1554741.48",
         "urban"
        ],
        [
         "14",
         "463.81",
         "8.01",
         "9.12",
         "79.47",
         "70.32",
         "14",
         "85.77",
         "7619.48",
         "4046399.57",
         "urban"
        ],
        [
         "15",
         "75.89",
         "5.59",
         "6.46",
         "90.35",
         "84.31",
         "14",
         "59.03",
         "2960.43",
         "4360596.24",
         "rural"
        ],
        [
         "16",
         "78.15",
         "9.77",
         "10.92",
         "59.53",
         "81.73",
         "21",
         "37.89",
         "808.15",
         "2812048.46",
         "rural"
        ],
        [
         "17",
         "300.05",
         "9.7",
         "3.46",
         "73.9",
         "89.75",
         "8",
         "65.08",
         "2326.02",
         "1222649.39",
         "rural"
        ],
        [
         "18",
         "103.97",
         "6.25",
         "8.41",
         "81.73",
         "50.91",
         "11",
         "48.89",
         "9731.74",
         "1553098.58",
         "urban"
        ],
        [
         "19",
         "150.13",
         "5.35",
         "2.49",
         "89.6",
         "87.17",
         "13",
         "85.33",
         "2743.14",
         "2065857.23",
         "urban"
        ],
        [
         "20",
         "667.12",
         "9.47",
         "6.37",
         "67.67",
         "85.35",
         "12",
         "51.96",
         "6211.6",
         "7295103.54",
         "rural"
        ],
        [
         "21",
         "67.71",
         "6.21",
         "3.2",
         "85.08",
         "92.23",
         "12",
         "60.69",
         "6094.41",
         "839158.14",
         "rural"
        ],
        [
         "22",
         "3.4",
         "8.15",
         "8.8",
         "91.2",
         "72.3",
         "12",
         "57.53",
         "5710.62",
         "3771058.55",
         "urban"
        ],
        [
         "23",
         "94.97",
         "8.11",
         "8.63",
         "90.72",
         "98.24",
         "21",
         "32.39",
         "1174.22",
         "1542608.73",
         "urban"
        ],
        [
         "24",
         "202.67",
         "9.71",
         "11.39",
         "75.57",
         "95.44",
         "17",
         "66.11",
         "514.13",
         "1625390.1",
         "rural"
        ],
        [
         "25",
         "125.49",
         "8.74",
         "8.5",
         "63.06",
         "98.8",
         "9",
         "61.39",
         "4492.18",
         "1770297.95",
         "urban"
        ],
        [
         "26",
         "2165.92",
         "9.18",
         "3.29",
         "67.94",
         "88.5",
         "14",
         "69.56",
         "858.75",
         "1783733.25",
         "urban"
        ],
        [
         "27",
         "7.03",
         "14.09",
         "13.7",
         "94.5",
         "84.64",
         "20",
         "70.41",
         "1584.18",
         "1334783.45",
         "urban"
        ],
        [
         "28",
         "1295.36",
         "8.61",
         "1.7",
         "85.46",
         "85.58",
         "10",
         "76.83",
         "359.99",
         "1587576.1",
         "urban"
        ],
        [
         "29",
         "66.57",
         "8.03",
         "3.36",
         "75.22",
         "75.29",
         "11",
         "64.09",
         "5665.37",
         "5059638.29",
         "urban"
        ],
        [
         "30",
         "461.71",
         "6.6",
         "6.45",
         "92.07",
         "84.13",
         "18",
         "76.85",
         "2942.2",
         "5413446.28",
         "urban"
        ],
        [
         "31",
         "74.14",
         "10.9",
         "4.79",
         "63.11",
         "85.58",
         "15",
         "41.05",
         "3280.38",
         "6681059.17",
         "urban"
        ],
        [
         "32",
         "48.26",
         "10.76",
         "13.07",
         "82.07",
         "80.5",
         "18",
         "33.54",
         "3812.01",
         "2959759.85",
         "rural"
        ],
        [
         "33",
         "756.28",
         "8.17",
         "8.97",
         "97.08",
         "95.52",
         "11",
         "64.91",
         "707.82",
         "750246.14",
         "urban"
        ],
        [
         "34",
         "259.56",
         "8.73",
         "0.64",
         "64.72",
         "75.62",
         "16",
         "55.15",
         "6209.3",
         "6351800.51",
         "rural"
        ],
        [
         "35",
         "26.01",
         "9.98",
         "11.09",
         "93.37",
         "79.91",
         "20",
         "71.22",
         "11195.37",
         "5033386.44",
         "rural"
        ],
        [
         "36",
         "186.38",
         "10.23",
         "7.98",
         "49.73",
         "85.68",
         "16",
         "89.21",
         "804.05",
         "9269690.35",
         "urban"
        ],
        [
         "37",
         "187.66",
         "11.17",
         "3.53",
         "68.94",
         "49.01",
         "20",
         "63.51",
         "13459.02",
         "3737111.88",
         "urban"
        ],
        [
         "38",
         "301.85",
         "10.04",
         "13.47",
         "40.81",
         "94.65",
         "14",
         "63.99",
         "2633.74",
         "497021.94",
         "urban"
        ],
        [
         "39",
         "59.26",
         "10.57",
         "4.67",
         "71.42",
         "94.56",
         "11",
         "63.93",
         "1573.64",
         "582354.23",
         "urban"
        ],
        [
         "40",
         "31.44",
         "6.64",
         "9.66",
         "64.25",
         "96.87",
         "12",
         "75.76",
         "50.02",
         "1044261.63",
         "urban"
        ],
        [
         "41",
         "89.85",
         "11.25",
         "4.1",
         "73.85",
         "84.15",
         "20",
         "31.29",
         "4626.8",
         "2394939.3",
         "urban"
        ],
        [
         "42",
         "76.93",
         "10.59",
         "4.73",
         "89.45",
         "94.1",
         "11",
         "66.6",
         "6044.18",
         "2334407.48",
         "urban"
        ],
        [
         "43",
         "93.73",
         "7.96",
         "11.24",
         "77.06",
         "70.09",
         "18",
         "77.21",
         "2134.86",
         "937095.38",
         "urban"
        ],
        [
         "44",
         "70.55",
         "8.57",
         "4.74",
         "84.14",
         "93.81",
         "10",
         "45.14",
         "3815.76",
         "893317.18",
         "urban"
        ],
        [
         "45",
         "71.92",
         "11.07",
         "1.31",
         "79.3",
         "89.12",
         "17",
         "64.55",
         "1862.17",
         "1024523.22",
         "urban"
        ],
        [
         "46",
         "110.92",
         "10.06",
         "4.48",
         "82.27",
         "85.44",
         "16",
         "66.48",
         "5547.61",
         "1729396.24",
         "urban"
        ],
        [
         "47",
         "78.06",
         "6.94",
         "10.03",
         "81.79",
         "83.85",
         "18",
         "40.22",
         "14501.7",
         "3779384.79",
         "rural"
        ],
        [
         "48",
         "128.55",
         "7.89",
         "5.17",
         "62.82",
         "88.52",
         "19",
         "57.42",
         "1940.08",
         "2711268.91",
         "urban"
        ],
        [
         "49",
         "170.27",
         "12.03",
         "0.16",
         "91.94",
         "79.43",
         "16",
         "71.0",
         "13691.18",
         "4313739.6",
         "urban"
        ]
       ],
       "shape": {
        "columns": 10,
        "rows": 5836
       }
      },
      "text/html": [
       "<div>\n",
       "<style scoped>\n",
       "    .dataframe tbody tr th:only-of-type {\n",
       "        vertical-align: middle;\n",
       "    }\n",
       "\n",
       "    .dataframe tbody tr th {\n",
       "        vertical-align: top;\n",
       "    }\n",
       "\n",
       "    .dataframe thead th {\n",
       "        text-align: right;\n",
       "    }\n",
       "</style>\n",
       "<table border=\"1\" class=\"dataframe\">\n",
       "  <thead>\n",
       "    <tr style=\"text-align: right;\">\n",
       "      <th></th>\n",
       "      <th>kepadatan_penduduk</th>\n",
       "      <th>tingkat_pendidikan</th>\n",
       "      <th>tingkat_pengangguran</th>\n",
       "      <th>akses_air_bersih</th>\n",
       "      <th>akses_listrik</th>\n",
       "      <th>fasilitas_kesehatan</th>\n",
       "      <th>jalan_aspal</th>\n",
       "      <th>luas_sawah</th>\n",
       "      <th>pendapatan_perkapita</th>\n",
       "      <th>jenis_wilayah</th>\n",
       "    </tr>\n",
       "  </thead>\n",
       "  <tbody>\n",
       "    <tr>\n",
       "      <th>0</th>\n",
       "      <td>445.530000</td>\n",
       "      <td>9.350000</td>\n",
       "      <td>6.200000</td>\n",
       "      <td>80.990000</td>\n",
       "      <td>96.260000</td>\n",
       "      <td>11</td>\n",
       "      <td>61.860000</td>\n",
       "      <td>490.020000</td>\n",
       "      <td>1.294872e+06</td>\n",
       "      <td>rural</td>\n",
       "    </tr>\n",
       "    <tr>\n",
       "      <th>1</th>\n",
       "      <td>23.460000</td>\n",
       "      <td>8.530000</td>\n",
       "      <td>2.670000</td>\n",
       "      <td>54.180000</td>\n",
       "      <td>94.210000</td>\n",
       "      <td>20</td>\n",
       "      <td>36.590000</td>\n",
       "      <td>5215.280000</td>\n",
       "      <td>4.786882e+06</td>\n",
       "      <td>rural</td>\n",
       "    </tr>\n",
       "    <tr>\n",
       "      <th>2</th>\n",
       "      <td>539.630000</td>\n",
       "      <td>11.130000</td>\n",
       "      <td>1.110000</td>\n",
       "      <td>60.580000</td>\n",
       "      <td>93.140000</td>\n",
       "      <td>16</td>\n",
       "      <td>93.610000</td>\n",
       "      <td>1551.840000</td>\n",
       "      <td>5.484818e+06</td>\n",
       "      <td>urban</td>\n",
       "    </tr>\n",
       "    <tr>\n",
       "      <th>3</th>\n",
       "      <td>1007.420000</td>\n",
       "      <td>7.640000</td>\n",
       "      <td>4.320000</td>\n",
       "      <td>55.000000</td>\n",
       "      <td>88.910000</td>\n",
       "      <td>8</td>\n",
       "      <td>75.730000</td>\n",
       "      <td>3186.160000</td>\n",
       "      <td>2.203805e+06</td>\n",
       "      <td>urban</td>\n",
       "    </tr>\n",
       "    <tr>\n",
       "      <th>4</th>\n",
       "      <td>6377.070000</td>\n",
       "      <td>13.070000</td>\n",
       "      <td>12.320000</td>\n",
       "      <td>57.760000</td>\n",
       "      <td>79.100000</td>\n",
       "      <td>16</td>\n",
       "      <td>80.560000</td>\n",
       "      <td>6488.420000</td>\n",
       "      <td>2.578289e+06</td>\n",
       "      <td>rural</td>\n",
       "    </tr>\n",
       "    <tr>\n",
       "      <th>...</th>\n",
       "      <td>...</td>\n",
       "      <td>...</td>\n",
       "      <td>...</td>\n",
       "      <td>...</td>\n",
       "      <td>...</td>\n",
       "      <td>...</td>\n",
       "      <td>...</td>\n",
       "      <td>...</td>\n",
       "      <td>...</td>\n",
       "      <td>...</td>\n",
       "    </tr>\n",
       "    <tr>\n",
       "      <th>5831</th>\n",
       "      <td>83.198153</td>\n",
       "      <td>7.199603</td>\n",
       "      <td>11.071017</td>\n",
       "      <td>55.571504</td>\n",
       "      <td>85.590285</td>\n",
       "      <td>15</td>\n",
       "      <td>80.007348</td>\n",
       "      <td>1701.405799</td>\n",
       "      <td>1.487657e+06</td>\n",
       "      <td>urban</td>\n",
       "    </tr>\n",
       "    <tr>\n",
       "      <th>5832</th>\n",
       "      <td>448.163139</td>\n",
       "      <td>7.197704</td>\n",
       "      <td>4.737232</td>\n",
       "      <td>83.861123</td>\n",
       "      <td>80.227841</td>\n",
       "      <td>12</td>\n",
       "      <td>64.487765</td>\n",
       "      <td>6418.104277</td>\n",
       "      <td>9.105912e+05</td>\n",
       "      <td>urban</td>\n",
       "    </tr>\n",
       "    <tr>\n",
       "      <th>5833</th>\n",
       "      <td>683.238992</td>\n",
       "      <td>5.798496</td>\n",
       "      <td>11.703052</td>\n",
       "      <td>73.055735</td>\n",
       "      <td>93.095052</td>\n",
       "      <td>13</td>\n",
       "      <td>80.004603</td>\n",
       "      <td>3849.547238</td>\n",
       "      <td>7.745619e+05</td>\n",
       "      <td>urban</td>\n",
       "    </tr>\n",
       "    <tr>\n",
       "      <th>5834</th>\n",
       "      <td>713.437946</td>\n",
       "      <td>7.321962</td>\n",
       "      <td>4.040112</td>\n",
       "      <td>52.960454</td>\n",
       "      <td>89.948333</td>\n",
       "      <td>13</td>\n",
       "      <td>64.753257</td>\n",
       "      <td>6551.156077</td>\n",
       "      <td>1.959667e+05</td>\n",
       "      <td>urban</td>\n",
       "    </tr>\n",
       "    <tr>\n",
       "      <th>5835</th>\n",
       "      <td>144.667734</td>\n",
       "      <td>8.728538</td>\n",
       "      <td>7.844756</td>\n",
       "      <td>65.304724</td>\n",
       "      <td>87.293518</td>\n",
       "      <td>11</td>\n",
       "      <td>62.502847</td>\n",
       "      <td>7235.146814</td>\n",
       "      <td>5.821917e+05</td>\n",
       "      <td>urban</td>\n",
       "    </tr>\n",
       "  </tbody>\n",
       "</table>\n",
       "<p>5836 rows × 10 columns</p>\n",
       "</div>"
      ],
      "text/plain": [
       "      kepadatan_penduduk  tingkat_pendidikan  tingkat_pengangguran  \\\n",
       "0             445.530000            9.350000              6.200000   \n",
       "1              23.460000            8.530000              2.670000   \n",
       "2             539.630000           11.130000              1.110000   \n",
       "3            1007.420000            7.640000              4.320000   \n",
       "4            6377.070000           13.070000             12.320000   \n",
       "...                  ...                 ...                   ...   \n",
       "5831           83.198153            7.199603             11.071017   \n",
       "5832          448.163139            7.197704              4.737232   \n",
       "5833          683.238992            5.798496             11.703052   \n",
       "5834          713.437946            7.321962              4.040112   \n",
       "5835          144.667734            8.728538              7.844756   \n",
       "\n",
       "      akses_air_bersih  akses_listrik  fasilitas_kesehatan  jalan_aspal  \\\n",
       "0            80.990000      96.260000                   11    61.860000   \n",
       "1            54.180000      94.210000                   20    36.590000   \n",
       "2            60.580000      93.140000                   16    93.610000   \n",
       "3            55.000000      88.910000                    8    75.730000   \n",
       "4            57.760000      79.100000                   16    80.560000   \n",
       "...                ...            ...                  ...          ...   \n",
       "5831         55.571504      85.590285                   15    80.007348   \n",
       "5832         83.861123      80.227841                   12    64.487765   \n",
       "5833         73.055735      93.095052                   13    80.004603   \n",
       "5834         52.960454      89.948333                   13    64.753257   \n",
       "5835         65.304724      87.293518                   11    62.502847   \n",
       "\n",
       "       luas_sawah  pendapatan_perkapita jenis_wilayah  \n",
       "0      490.020000          1.294872e+06         rural  \n",
       "1     5215.280000          4.786882e+06         rural  \n",
       "2     1551.840000          5.484818e+06         urban  \n",
       "3     3186.160000          2.203805e+06         urban  \n",
       "4     6488.420000          2.578289e+06         rural  \n",
       "...           ...                   ...           ...  \n",
       "5831  1701.405799          1.487657e+06         urban  \n",
       "5832  6418.104277          9.105912e+05         urban  \n",
       "5833  3849.547238          7.745619e+05         urban  \n",
       "5834  6551.156077          1.959667e+05         urban  \n",
       "5835  7235.146814          5.821917e+05         urban  \n",
       "\n",
       "[5836 rows x 10 columns]"
      ]
     },
     "execution_count": 56,
     "metadata": {},
     "output_type": "execute_result"
    }
   ],
   "source": [
    "X_train_resample"
   ]
  },
  {
   "cell_type": "markdown",
   "id": "f5fadb00",
   "metadata": {},
   "source": [
    "## B. Model Training"
   ]
  },
  {
   "cell_type": "code",
   "execution_count": 57,
   "id": "746761b9",
   "metadata": {},
   "outputs": [
    {
     "data": {
      "text/plain": [
       "6"
      ]
     },
     "execution_count": 57,
     "metadata": {},
     "output_type": "execute_result"
    }
   ],
   "source": [
    "X_train_encoded.shape[1]"
   ]
  },
  {
   "cell_type": "code",
   "execution_count": 58,
   "id": "39228b88",
   "metadata": {},
   "outputs": [],
   "source": [
    "# clear session\n",
    "seed = 30\n",
    "tf.keras.backend.clear_session()\n",
    "np.random.seed(seed)\n",
    "tf.random.set_seed(seed)\n",
    "\n",
    "# building model using sequential\n",
    "model = Sequential()\n",
    "\n",
    "\n",
    "model.add(Input(shape=X_train_encoded.shape[1], name='input_layer')) # input layer \n",
    "# we using three hidden layers with dense\n",
    "model.add(Dense(64, activation='relu', kernel_initializer=tf.keras.initializers.HeNormal(seed)))\n",
    "# adding regularisation with droput to improve generalisation\n",
    "model.add(Dropout(0.2))\n",
    "model.add(Dense(32, activation='relu', kernel_initializer=tf.keras.initializers.HeNormal(seed)))\n",
    "model.add(Dropout(0.2))\n",
    "model.add(Dense(16, activation='relu', kernel_initializer=tf.keras.initializers.HeNormal(seed)))\n",
    "model.add(Dense(2, activation='sigmoid')) # binary classification\n",
    "\n",
    "model.compile(optimizer='adamax', loss='binary_crossentropy', metrics=['accuracy'])\n",
    "\n",
    "# adding early stopping\n",
    "early_stopping = EarlyStopping(monitor='val_loss', patience=5)\n",
    "\n",
    "# model checkpoint\n",
    "model_checkpoint = ModelCheckpoint(\n",
    "    filepath='model.keras',\n",
    "    monitor='val_loss',\n",
    "    save_best_only=False,\n",
    "    save_weights_only=False,\n",
    "    mode='min',\n",
    "    verbose=1\n",
    ")"
   ]
  },
  {
   "cell_type": "code",
   "execution_count": 59,
   "id": "d6c10db7",
   "metadata": {},
   "outputs": [
    {
     "name": "stdout",
     "output_type": "stream",
     "text": [
      "Model: \"sequential\"\n",
      "_________________________________________________________________\n",
      " Layer (type)                Output Shape              Param #   \n",
      "=================================================================\n",
      " dense (Dense)               (None, 64)                448       \n",
      "                                                                 \n",
      " dropout (Dropout)           (None, 64)                0         \n",
      "                                                                 \n",
      " dense_1 (Dense)             (None, 32)                2080      \n",
      "                                                                 \n",
      " dropout_1 (Dropout)         (None, 32)                0         \n",
      "                                                                 \n",
      " dense_2 (Dense)             (None, 16)                528       \n",
      "                                                                 \n",
      " dense_3 (Dense)             (None, 2)                 34        \n",
      "                                                                 \n",
      "=================================================================\n",
      "Total params: 3090 (12.07 KB)\n",
      "Trainable params: 3090 (12.07 KB)\n",
      "Non-trainable params: 0 (0.00 Byte)\n",
      "_________________________________________________________________\n"
     ]
    }
   ],
   "source": [
    "# summary\n",
    "model.summary()"
   ]
  },
  {
   "cell_type": "code",
   "execution_count": 60,
   "id": "1ebc5630",
   "metadata": {},
   "outputs": [
    {
     "name": "stdout",
     "output_type": "stream",
     "text": [
      "Epoch 1/20\n",
      "166/183 [==========================>...] - ETA: 0s - loss: 0.5760 - accuracy: 0.7199\n",
      "Epoch 1: saving model to model.keras\n",
      "183/183 [==============================] - 2s 4ms/step - loss: 0.5663 - accuracy: 0.7298 - val_loss: 0.3906 - val_accuracy: 0.8575\n",
      "Epoch 2/20\n",
      "176/183 [===========================>..] - ETA: 0s - loss: 0.3804 - accuracy: 0.8485\n",
      "Epoch 2: saving model to model.keras\n",
      "183/183 [==============================] - 1s 3ms/step - loss: 0.3776 - accuracy: 0.8504 - val_loss: 0.2709 - val_accuracy: 0.8925\n",
      "Epoch 3/20\n",
      "180/183 [============================>.] - ETA: 0s - loss: 0.3247 - accuracy: 0.8710\n",
      "Epoch 3: saving model to model.keras\n",
      "183/183 [==============================] - 1s 3ms/step - loss: 0.3235 - accuracy: 0.8715 - val_loss: 0.2407 - val_accuracy: 0.9025\n",
      "Epoch 4/20\n",
      "170/183 [==========================>...] - ETA: 0s - loss: 0.2872 - accuracy: 0.8853\n",
      "Epoch 4: saving model to model.keras\n",
      "183/183 [==============================] - 1s 3ms/step - loss: 0.2870 - accuracy: 0.8862 - val_loss: 0.2083 - val_accuracy: 0.9150\n",
      "Epoch 5/20\n",
      "175/183 [===========================>..] - ETA: 0s - loss: 0.2692 - accuracy: 0.8895\n",
      "Epoch 5: saving model to model.keras\n",
      "183/183 [==============================] - 0s 2ms/step - loss: 0.2683 - accuracy: 0.8897 - val_loss: 0.1949 - val_accuracy: 0.9175\n",
      "Epoch 6/20\n",
      "181/183 [============================>.] - ETA: 0s - loss: 0.2508 - accuracy: 0.8990\n",
      "Epoch 6: saving model to model.keras\n",
      "183/183 [==============================] - 0s 3ms/step - loss: 0.2513 - accuracy: 0.8991 - val_loss: 0.1908 - val_accuracy: 0.9225\n",
      "Epoch 7/20\n",
      "172/183 [===========================>..] - ETA: 0s - loss: 0.2440 - accuracy: 0.9017\n",
      "Epoch 7: saving model to model.keras\n",
      "183/183 [==============================] - 0s 3ms/step - loss: 0.2433 - accuracy: 0.9027 - val_loss: 0.1823 - val_accuracy: 0.9200\n",
      "Epoch 8/20\n",
      "163/183 [=========================>....] - ETA: 0s - loss: 0.2395 - accuracy: 0.9064\n",
      "Epoch 8: saving model to model.keras\n",
      "183/183 [==============================] - 1s 3ms/step - loss: 0.2376 - accuracy: 0.9075 - val_loss: 0.1720 - val_accuracy: 0.9250\n",
      "Epoch 9/20\n",
      "172/183 [===========================>..] - ETA: 0s - loss: 0.2342 - accuracy: 0.9059\n",
      "Epoch 9: saving model to model.keras\n",
      "183/183 [==============================] - 0s 3ms/step - loss: 0.2331 - accuracy: 0.9063 - val_loss: 0.1727 - val_accuracy: 0.9275\n",
      "Epoch 10/20\n",
      "173/183 [===========================>..] - ETA: 0s - loss: 0.2266 - accuracy: 0.9035\n",
      "Epoch 10: saving model to model.keras\n",
      "183/183 [==============================] - 0s 3ms/step - loss: 0.2251 - accuracy: 0.9040 - val_loss: 0.1600 - val_accuracy: 0.9250\n",
      "Epoch 11/20\n",
      "169/183 [==========================>...] - ETA: 0s - loss: 0.2112 - accuracy: 0.9148\n",
      "Epoch 11: saving model to model.keras\n",
      "183/183 [==============================] - 1s 3ms/step - loss: 0.2089 - accuracy: 0.9157 - val_loss: 0.1636 - val_accuracy: 0.9275\n",
      "Epoch 12/20\n",
      "170/183 [==========================>...] - ETA: 0s - loss: 0.2186 - accuracy: 0.9118\n",
      "Epoch 12: saving model to model.keras\n",
      "183/183 [==============================] - 0s 3ms/step - loss: 0.2183 - accuracy: 0.9118 - val_loss: 0.1602 - val_accuracy: 0.9275\n",
      "Epoch 13/20\n",
      "167/183 [==========================>...] - ETA: 0s - loss: 0.2049 - accuracy: 0.9171\n",
      "Epoch 13: saving model to model.keras\n",
      "183/183 [==============================] - 0s 3ms/step - loss: 0.2051 - accuracy: 0.9159 - val_loss: 0.1586 - val_accuracy: 0.9275\n",
      "Epoch 14/20\n",
      "173/183 [===========================>..] - ETA: 0s - loss: 0.2022 - accuracy: 0.9185\n",
      "Epoch 14: saving model to model.keras\n",
      "183/183 [==============================] - 0s 3ms/step - loss: 0.2027 - accuracy: 0.9191 - val_loss: 0.1572 - val_accuracy: 0.9300\n",
      "Epoch 15/20\n",
      "172/183 [===========================>..] - ETA: 0s - loss: 0.2016 - accuracy: 0.9182\n",
      "Epoch 15: saving model to model.keras\n",
      "183/183 [==============================] - 0s 3ms/step - loss: 0.2003 - accuracy: 0.9186 - val_loss: 0.1561 - val_accuracy: 0.9325\n",
      "Epoch 16/20\n",
      "173/183 [===========================>..] - ETA: 0s - loss: 0.1966 - accuracy: 0.9196\n",
      "Epoch 16: saving model to model.keras\n",
      "183/183 [==============================] - 0s 3ms/step - loss: 0.1967 - accuracy: 0.9198 - val_loss: 0.1481 - val_accuracy: 0.9300\n",
      "Epoch 17/20\n",
      "169/183 [==========================>...] - ETA: 0s - loss: 0.1972 - accuracy: 0.9234\n",
      "Epoch 17: saving model to model.keras\n",
      "183/183 [==============================] - 0s 3ms/step - loss: 0.1983 - accuracy: 0.9227 - val_loss: 0.1542 - val_accuracy: 0.9300\n",
      "Epoch 18/20\n",
      "172/183 [===========================>..] - ETA: 0s - loss: 0.1940 - accuracy: 0.9226\n",
      "Epoch 18: saving model to model.keras\n",
      "183/183 [==============================] - 0s 3ms/step - loss: 0.1920 - accuracy: 0.9236 - val_loss: 0.1452 - val_accuracy: 0.9350\n",
      "Epoch 19/20\n",
      "182/183 [============================>.] - ETA: 0s - loss: 0.1866 - accuracy: 0.9286\n",
      "Epoch 19: saving model to model.keras\n",
      "183/183 [==============================] - 0s 2ms/step - loss: 0.1864 - accuracy: 0.9287 - val_loss: 0.1397 - val_accuracy: 0.9375\n",
      "Epoch 20/20\n",
      "170/183 [==========================>...] - ETA: 0s - loss: 0.1817 - accuracy: 0.9272\n",
      "Epoch 20: saving model to model.keras\n",
      "183/183 [==============================] - 0s 2ms/step - loss: 0.1804 - accuracy: 0.9285 - val_loss: 0.1435 - val_accuracy: 0.9350\n"
     ]
    }
   ],
   "source": [
    "# learning model process\n",
    "model_train = model.fit(X_train_encoded,\n",
    "                        y_train_encoded,\n",
    "                        epochs=20,\n",
    "                        validation_data=(X_eval_encoded, y_eval_encoded),\n",
    "                        callbacks=[early_stopping, model_checkpoint])"
   ]
  },
  {
   "cell_type": "code",
   "execution_count": 61,
   "id": "8ba5008d",
   "metadata": {},
   "outputs": [
    {
     "data": {
      "image/png": "[encoded data removed]",
      "text/plain": [
       "<Figure size 1600x500 with 2 Axes>"
      ]
     },
     "metadata": {},
     "output_type": "display_data"
    }
   ],
   "source": [
    "# plotting training results\n",
    "\n",
    "model_train_hist = pd.DataFrame(model_train.history)\n",
    "\n",
    "plt.figure(figsize=(16,5))\n",
    "plt.subplot(1, 2, 1)\n",
    "sns.lineplot(data=model_train_hist[['accuracy', 'val_accuracy']])\n",
    "plt.grid()\n",
    "plt.title('Accuracy vs Val-Accuracy')\n",
    "\n",
    "plt.subplot(1, 2, 2)\n",
    "sns.lineplot(data=model_train_hist[['loss', 'val_loss']])\n",
    "plt.ylim()\n",
    "plt.grid()\n",
    "plt.title('Loss vs Val-Loss')\n",
    "plt.show()"
   ]
  },
  {
   "cell_type": "code",
   "execution_count": 62,
   "id": "7ab6a39a",
   "metadata": {},
   "outputs": [],
   "source": [
    "# load model that has been trained\n",
    "model = load_model('model.keras')"
   ]
  },
  {
   "cell_type": "code",
   "execution_count": 63,
   "id": "b42db5a1",
   "metadata": {},
   "outputs": [
    {
     "name": "stdout",
     "output_type": "stream",
     "text": [
      "183/183 [==============================] - 0s 1ms/step\n",
      "32/32 [==============================] - 0s 1ms/step\n"
     ]
    }
   ],
   "source": [
    "# prediction process (in probability)\n",
    "y_train_pred = model.predict(X_train_encoded)\n",
    "y_test_pred = model.predict(X_test_encoded)\n",
    "\n",
    "y_train_pred = np.argmax(y_train_pred, axis=1)\n",
    "y_test_pred = np.argmax(y_test_pred, axis=1)\n",
    "\n",
    "# conversion to label class\n",
    "y_train_true = np.argmax(y_train_encoded, axis=1) if len(y_train_encoded.shape) > 1 and y_train_encoded.shape[1] > 1 else y_train_resample\n",
    "y_test_true = np.argmax(y_test_encoded, axis=1) if len(y_test_encoded.shape) > 1 and y_test_encoded.shape[1] > 1 else y_test"
   ]
  },
  {
   "cell_type": "code",
   "execution_count": 64,
   "id": "aa36a87b",
   "metadata": {},
   "outputs": [
    {
     "data": {
      "text/plain": [
       "array([0, 0, 0, ..., 1, 1, 1], dtype=int64)"
      ]
     },
     "execution_count": 64,
     "metadata": {},
     "output_type": "execute_result"
    }
   ],
   "source": [
    "# example results\n",
    "y_train_true"
   ]
  },
  {
   "cell_type": "code",
   "execution_count": 65,
   "id": "ac33667f",
   "metadata": {},
   "outputs": [
    {
     "data": {
      "image/png": "[encoded data removed]",
      "text/plain": [
       "<Figure size 900x600 with 2 Axes>"
      ]
     },
     "metadata": {},
     "output_type": "display_data"
    },
    {
     "name": "stdout",
     "output_type": "stream",
     "text": [
      "Classification Report (Train Set)\n",
      "                        precision    recall  f1-score   support\n",
      "\n",
      "      Dalam Kemiskinan       0.97      0.92      0.94      2918\n",
      "Tidak Dalam Kemiskinan       0.93      0.97      0.95      2918\n",
      "\n",
      "              accuracy                           0.95      5836\n",
      "             macro avg       0.95      0.95      0.95      5836\n",
      "          weighted avg       0.95      0.95      0.95      5836\n",
      "\n"
     ]
    }
   ],
   "source": [
    "# declaration confusion matrix train set\n",
    "cm = confusion_matrix(y_train_true, y_train_pred)\n",
    "\n",
    "# class name declaration\n",
    "class_names = ['Dalam Kemiskinan', 'Tidak Dalam Kemiskinan']\n",
    "\n",
    "# showing confusion matrix\n",
    "plt.figure(figsize=(9,6))\n",
    "sns.heatmap(cm, annot=True, fmt='d', cmap='Blues',\n",
    "            xticklabels=class_names,\n",
    "            yticklabels=class_names)\n",
    "plt.xlabel('Predicted')\n",
    "plt.ylabel('Actual')\n",
    "plt.title('Confusion Matrix (Train Set)')\n",
    "plt.show()\n",
    "\n",
    "# configuration for showing classification report\n",
    "report = classification_report(y_train_true,\n",
    "                               y_train_pred,\n",
    "                               target_names=class_names,\n",
    "                               zero_division=0)\n",
    "\n",
    "# show classification report\n",
    "print('Classification Report (Train Set)')\n",
    "print(report)\n"
   ]
  },
  {
   "cell_type": "code",
   "execution_count": 66,
   "id": "7d2ca886",
   "metadata": {},
   "outputs": [
    {
     "data": {
      "image/png": "[encoded data removed]",
      "text/plain": [
       "<Figure size 900x600 with 2 Axes>"
      ]
     },
     "metadata": {},
     "output_type": "display_data"
    },
    {
     "name": "stdout",
     "output_type": "stream",
     "text": [
      "Classification Report (Test Set)\n",
      "                        precision    recall  f1-score   support\n",
      "\n",
      "      Dalam Kemiskinan       0.98      0.91      0.94       816\n",
      "Tidak Dalam Kemiskinan       0.70      0.91      0.79       184\n",
      "\n",
      "              accuracy                           0.91      1000\n",
      "             macro avg       0.84      0.91      0.87      1000\n",
      "          weighted avg       0.93      0.91      0.92      1000\n",
      "\n"
     ]
    }
   ],
   "source": [
    "# declaration confusion matrix train set\n",
    "cm = confusion_matrix(y_test_true, y_test_pred)\n",
    "\n",
    "# class name declaration\n",
    "class_names = ['Dalam Kemiskinan', 'Tidak Dalam Kemiskinan']\n",
    "\n",
    "# showing confusion matrix\n",
    "plt.figure(figsize=(9,6))\n",
    "sns.heatmap(cm, annot=True, fmt='d', cmap='Blues',\n",
    "            xticklabels=class_names,\n",
    "            yticklabels=class_names)\n",
    "plt.xlabel('Predicted')\n",
    "plt.ylabel('Actual')\n",
    "plt.title('Confusion Matrix (Train Set)')\n",
    "plt.show()\n",
    "\n",
    "# configuration for showing classification report\n",
    "report = classification_report(y_test_true,\n",
    "                               y_test_pred,\n",
    "                               target_names=class_names,\n",
    "                               zero_division=0)\n",
    "\n",
    "# show classification report\n",
    "print('Classification Report (Test Set)')\n",
    "print(report)"
   ]
  },
  {
   "cell_type": "code",
   "execution_count": null,
   "id": "640b659a",
   "metadata": {},
   "outputs": [],
   "source": [
    "# save model\n",
    "model.save('fix-model.keras')"
   ]
  }
 ],
 "metadata": {
  "kernelspec": {
   "display_name": "tensorflow_env",
   "language": "python",
   "name": "python3"
  },
  "language_info": {
   "codemirror_mode": {
    "name": "ipython",
    "version": 3
   },
   "file_extension": ".py",
   "mimetype": "text/x-python",
   "name": "python",
   "nbconvert_exporter": "python",
   "pygments_lexer": "ipython3",
   "version": "3.9.21"
  }
 },
 "nbformat": 4,
 "nbformat_minor": 5
}
